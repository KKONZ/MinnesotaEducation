{
 "cells": [
  {
   "cell_type": "code",
   "execution_count": 94,
   "metadata": {
    "collapsed": true
   },
   "outputs": [],
   "source": [
    "from selenium import webdriver\n",
    "from selenium.webdriver.common.by import By\n",
    "#from selenium.webdriver.common.keys import Keys\n",
    "import time\n",
    "import os\n",
    "from socket import socket\n",
    "import pandas as pd\n",
    "import wget\n",
    "import datetime\n",
    "import numpy as np"
   ]
  },
  {
   "cell_type": "code",
   "execution_count": 2,
   "metadata": {
    "collapsed": true
   },
   "outputs": [],
   "source": [
    "fp = webdriver.FirefoxProfile()\n",
    "fp.set_preference('browser.download.folderList', 2)\n",
    "fp.set_preference('browser.download.manager.showWhenStarting', False)\n",
    "fp.set_preference('browser.download.dir', '/tmp')\n",
    "fp.set_preference(\"http.response.timeout\", 300)\n",
    "fp.set_preference(\"dom.max_script_run_time\", 300)\n",
    "fp.set_preference('webdriver.load.strategy', 'unstable')\n",
    "fp.set_preference('browser.helperApps.neverAsk.saveToDisk', 'text/plain, application/vnd.ms-excel, text/csv, text/comma-separated-values, application/octet-stream, application/vnd.openxmlformats-officedocument.spreadsheetml.sheet')\n",
    "fp.update_preferences()"
   ]
  },
  {
   "cell_type": "code",
   "execution_count": 3,
   "metadata": {
    "collapsed": true
   },
   "outputs": [],
   "source": [
    "driver = webdriver.Firefox(fp)\n",
    "driver.get('http://w20.education.state.mn.us/MDEAnalytics/Data.jsp')"
   ]
  },
  {
   "cell_type": "code",
   "execution_count": 4,
   "metadata": {
    "collapsed": true,
    "scrolled": true
   },
   "outputs": [],
   "source": [
    "driver.switch_to.frame(driver.find_element_by_name('floatframe'))"
   ]
  },
  {
   "cell_type": "code",
   "execution_count": 5,
   "metadata": {
    "collapsed": true,
    "scrolled": false
   },
   "outputs": [],
   "source": [
    "ids_a = driver.find_elements_by_xpath(\"//*[text()='Student']\")"
   ]
  },
  {
   "cell_type": "code",
   "execution_count": 6,
   "metadata": {
    "collapsed": true
   },
   "outputs": [],
   "source": [
    "for ii in ids_a:\n",
    "    link = ii.get_attribute('href')\n",
    "time.sleep(4)"
   ]
  },
  {
   "cell_type": "code",
   "execution_count": 7,
   "metadata": {
    "collapsed": true
   },
   "outputs": [],
   "source": [
    "#driver = webdriver.Firefox(fp) # is this linke needed?\n",
    "driver.get(link)\n",
    "time.sleep(3)"
   ]
  },
  {
   "cell_type": "code",
   "execution_count": 9,
   "metadata": {
    "collapsed": true
   },
   "outputs": [],
   "source": [
    "driver.switch_to.frame(driver.find_element_by_name('floatframe'))"
   ]
  },
  {
   "cell_type": "code",
   "execution_count": 10,
   "metadata": {
    "collapsed": true
   },
   "outputs": [],
   "source": [
    "driver.find_element_by_xpath(\"//input[@id='button1' and @name='button1']\").click()\n",
    "time.sleep(5)"
   ]
  },
  {
   "cell_type": "code",
   "execution_count": 11,
   "metadata": {
    "collapsed": true
   },
   "outputs": [],
   "source": [
    "driver.switch_to.frame(driver.find_element_by_name('Report'))"
   ]
  },
  {
   "cell_type": "code",
   "execution_count": 12,
   "metadata": {},
   "outputs": [
    {
     "data": {
      "text/plain": [
       "'C:\\\\MDE_Data'"
      ]
     },
     "execution_count": 12,
     "metadata": {},
     "output_type": "execute_result"
    }
   ],
   "source": [
    "newpath_main = r'C:\\MDE_Data'\n",
    "if not os.path.exists(newpath_main):\n",
    "    os.makedirs(newpath_main)   \n",
    "os.chdir(newpath_main)\n",
    "os.getcwd()"
   ]
  },
  {
   "cell_type": "code",
   "execution_count": 17,
   "metadata": {
    "collapsed": true
   },
   "outputs": [],
   "source": [
    "i = datetime.datetime.now()\n",
    "currentYr = \"%s-\" %(i.year -1) #, str(i.year))\n",
    "lastYr = \"%s-\" %(i.year -2) #, str(i.year-1))\n",
    "EnrNonPub = \"Nonpublic\""
   ]
  },
  {
   "cell_type": "code",
   "execution_count": 13,
   "metadata": {},
   "outputs": [
    {
     "data": {
      "text/plain": [
       "'C:\\\\MDE_Data\\\\Enrollment_NonPublic'"
      ]
     },
     "execution_count": 13,
     "metadata": {},
     "output_type": "execute_result"
    }
   ],
   "source": [
    "NonPublicDir = r'C:\\MDE_Data\\Enrollment_NonPublic'\n",
    "if not os.path.exists(NonPublicDir):\n",
    "    os.makedirs(NonPublicDir)\n",
    "os.chdir(NonPublicDir)\n",
    "os.getcwd()"
   ]
  },
  {
   "cell_type": "code",
   "execution_count": 37,
   "metadata": {},
   "outputs": [
    {
     "name": "stdout",
     "output_type": "stream",
     "text": [
      "Data file: 2017-18 Enrollment-Nonpublic\n",
      "100% [..............................................................................] 84932 / 84932Data file: 2016-17 Enrollment-Nonpublic\n",
      "100% [..............................................................................] 84060 / 84060"
     ]
    }
   ],
   "source": [
    "try:\n",
    "    EnrNonPub_thisYr = driver.find_element_by_xpath('//a[@href and contains(@title, \"%s\") and contains(@title, \"%s\")]' %(currentYr, EnrNonPub))\n",
    "    ThisYear = wget.download(EnrNonPub_thisYr.get_attribute('href'), print(EnrNonPub_thisYr.get_attribute('title')))\n",
    "except:\n",
    "    print(\"NA %s\" %(currentYr))\n",
    "try:\n",
    "    EnrNonPub_lastYr = driver.find_element_by_xpath('//a[@href and contains(@title, \"%s\") and contains(@title, \"%s\")]' %(lastYr, EnrNonPub))\n",
    "    LastYear = wget.download(EnrNonPub_lastYr.get_attribute('href'), print(EnrNonPub_lastYr.get_attribute('title')))\n",
    "except:\n",
    "    print(\"NA %s\" %(lasttYr))"
   ]
  },
  {
   "cell_type": "code",
   "execution_count": 52,
   "metadata": {},
   "outputs": [],
   "source": [
    "ThisYearNP = pd.read_excel(ThisYear)\n",
    "LastYearNP = pd.read_excel(LastYear)"
   ]
  },
  {
   "cell_type": "code",
   "execution_count": 53,
   "metadata": {},
   "outputs": [],
   "source": [
    "columnsOfInterest = ['dst_num','dst_tye','sch_num','schoolname', 'gr_11', 'gr_12']"
   ]
  },
  {
   "cell_type": "code",
   "execution_count": 54,
   "metadata": {},
   "outputs": [],
   "source": [
    "ThisYearNP = ThisYearNP[columnsOfInterest]\n",
    "ThisYearNP = ThisYearNP[(ThisYearNP.gr_11 > 0) | (ThisYearNP.gr_12 > 0)]\n",
    "ThisYearNP = ThisYearNP.rename(columns = {'gr_11': 'JuniorsThisYear',\n",
    "                          'gr_12': 'SeniorsThisYear'})"
   ]
  },
  {
   "cell_type": "code",
   "execution_count": 55,
   "metadata": {},
   "outputs": [],
   "source": [
    "LastYearNP = LastYearNP[columnsOfInterest]\n",
    "LastYearNP = LastYearNP[(LastYearNP.gr_11 > 0) | (LastYearNP.gr_12 > 0)]\n",
    "LastYearNP = LastYearNP.rename(columns = {'gr_11': 'JuniorsLastYear',\n",
    "                          'gr_12': 'SeniorsLastYear'})"
   ]
  },
  {
   "cell_type": "code",
   "execution_count": 56,
   "metadata": {},
   "outputs": [
    {
     "data": {
      "text/html": [
       "<div>\n",
       "<style>\n",
       "    .dataframe thead tr:only-child th {\n",
       "        text-align: right;\n",
       "    }\n",
       "\n",
       "    .dataframe thead th {\n",
       "        text-align: left;\n",
       "    }\n",
       "\n",
       "    .dataframe tbody tr th {\n",
       "        vertical-align: top;\n",
       "    }\n",
       "</style>\n",
       "<table border=\"1\" class=\"dataframe\">\n",
       "  <thead>\n",
       "    <tr style=\"text-align: right;\">\n",
       "      <th></th>\n",
       "      <th>dst_num</th>\n",
       "      <th>dst_tye</th>\n",
       "      <th>sch_num</th>\n",
       "      <th>schoolname</th>\n",
       "      <th>JuniorsThisYear</th>\n",
       "      <th>SeniorsThisYear</th>\n",
       "    </tr>\n",
       "  </thead>\n",
       "  <tbody>\n",
       "    <tr>\n",
       "      <th>0</th>\n",
       "      <td>1.0</td>\n",
       "      <td>33.0</td>\n",
       "      <td>9.0</td>\n",
       "      <td>DELASALLE HIGH SCHOOL</td>\n",
       "      <td>197.0</td>\n",
       "      <td>175.0</td>\n",
       "    </tr>\n",
       "    <tr>\n",
       "      <th>3</th>\n",
       "      <td>1.0</td>\n",
       "      <td>33.0</td>\n",
       "      <td>13.0</td>\n",
       "      <td>BLAKE SCHOOL</td>\n",
       "      <td>132.0</td>\n",
       "      <td>127.0</td>\n",
       "    </tr>\n",
       "    <tr>\n",
       "      <th>6</th>\n",
       "      <td>1.0</td>\n",
       "      <td>33.0</td>\n",
       "      <td>18.0</td>\n",
       "      <td>MINNEHAHA ACADEMY - UPPER SCHOOL</td>\n",
       "      <td>81.0</td>\n",
       "      <td>81.0</td>\n",
       "    </tr>\n",
       "    <tr>\n",
       "      <th>15</th>\n",
       "      <td>1.0</td>\n",
       "      <td>33.0</td>\n",
       "      <td>894.0</td>\n",
       "      <td>HOPE ACADEMY</td>\n",
       "      <td>15.0</td>\n",
       "      <td>20.0</td>\n",
       "    </tr>\n",
       "    <tr>\n",
       "      <th>16</th>\n",
       "      <td>1.0</td>\n",
       "      <td>33.0</td>\n",
       "      <td>918.0</td>\n",
       "      <td>CRISTO REY JESUIT HIGH SCHOOL</td>\n",
       "      <td>135.0</td>\n",
       "      <td>80.0</td>\n",
       "    </tr>\n",
       "  </tbody>\n",
       "</table>\n",
       "</div>"
      ],
      "text/plain": [
       "    dst_num  dst_tye  sch_num                           schoolname  \\\n",
       "0       1.0     33.0      9.0  DELASALLE HIGH SCHOOL                 \n",
       "3       1.0     33.0     13.0  BLAKE SCHOOL                          \n",
       "6       1.0     33.0     18.0  MINNEHAHA ACADEMY - UPPER SCHOOL      \n",
       "15      1.0     33.0    894.0  HOPE ACADEMY                          \n",
       "16      1.0     33.0    918.0  CRISTO REY JESUIT HIGH SCHOOL         \n",
       "\n",
       "    JuniorsThisYear  SeniorsThisYear  \n",
       "0             197.0            175.0  \n",
       "3             132.0            127.0  \n",
       "6              81.0             81.0  \n",
       "15             15.0             20.0  \n",
       "16            135.0             80.0  "
      ]
     },
     "execution_count": 56,
     "metadata": {},
     "output_type": "execute_result"
    }
   ],
   "source": [
    "ThisYearNP.head()"
   ]
  },
  {
   "cell_type": "code",
   "execution_count": 57,
   "metadata": {
    "collapsed": true
   },
   "outputs": [],
   "source": [
    "TotalNP = pd.merge(ThisYearNP, LastYearNP, how = 'inner', on = ['dst_num', 'dst_tye', 'sch_num', 'schoolname'])"
   ]
  },
  {
   "cell_type": "code",
   "execution_count": 59,
   "metadata": {},
   "outputs": [
    {
     "name": "stdout",
     "output_type": "stream",
     "text": [
      "-1 / unknown"
     ]
    }
   ],
   "source": [
    "Lookup = wget.download('http://w20.education.state.mn.us/MdeOrgView/tag/extractContacts/NonPublicSchool,MDE_ACTIVE?description=')"
   ]
  },
  {
   "cell_type": "code",
   "execution_count": 78,
   "metadata": {
    "collapsed": true
   },
   "outputs": [],
   "source": [
    "LookupNP = pd.read_csv(Lookup)"
   ]
  },
  {
   "cell_type": "code",
   "execution_count": 79,
   "metadata": {},
   "outputs": [
    {
     "data": {
      "text/plain": [
       "Index(['District Number', 'District Type', 'School Number', 'Number',\n",
       "       'Organization', 'Title', 'Name', 'First Name', 'Last Name', 'Phone',\n",
       "       'Email', 'Mailing Line 1', 'Mailing Line 2', 'Mailing City',\n",
       "       'Mailing State', 'Mailing Zip', 'Physical Line 1', 'Physical Line 2',\n",
       "       'Physical City', 'Physical State', 'Physical Zip', 'County', 'Grades',\n",
       "       'School Classification', 'Eco Dev Region', 'NCES ID',\n",
       "       'StateOrganizationId', 'ACT ID', 'Web URL', 'Data Extracted'],\n",
       "      dtype='object')"
      ]
     },
     "execution_count": 79,
     "metadata": {},
     "output_type": "execute_result"
    }
   ],
   "source": [
    "LookupNP.columns"
   ]
  },
  {
   "cell_type": "code",
   "execution_count": 80,
   "metadata": {},
   "outputs": [],
   "source": [
    "JoinColumns = ['District Number', 'District Type', 'School Number','Physical Line 1', 'Physical Line 2',\n",
    "       'Physical City', 'Physical State', 'Physical Zip', 'County']\n",
    "SelectColumns = ['Physical Line 1', 'Physical Line 2',\n",
    "       'Physical City', 'Physical State', 'Physical Zip', 'County']"
   ]
  },
  {
   "cell_type": "code",
   "execution_count": 81,
   "metadata": {},
   "outputs": [],
   "source": [
    "LookupNP = LookupNP[ColumnsOfInterest]"
   ]
  },
  {
   "cell_type": "code",
   "execution_count": 83,
   "metadata": {},
   "outputs": [],
   "source": [
    "NP = pd.merge(LookupNP, TotalNP, how = 'inner', left_on = ['District Number', 'District Type', 'School Number'],\n",
    "             right_on = ['dst_num', 'dst_tye', 'sch_num'])"
   ]
  },
  {
   "cell_type": "code",
   "execution_count": 84,
   "metadata": {
    "collapsed": true
   },
   "outputs": [],
   "source": [
    "SelectColumns = ['Physical Line 1', 'Physical Line 2',\n",
    "                 'Physical City', 'Physical State', \n",
    "                 'Physical Zip', 'County', 'schoolname', \n",
    "                 'JuniorsThisYear', 'JuniorsLastYear', \n",
    "                'SeniorsThisYear', 'SeniorsLastYear']"
   ]
  },
  {
   "cell_type": "code",
   "execution_count": 96,
   "metadata": {},
   "outputs": [],
   "source": [
    "NP = NP[SelectColumns]\n",
    "NP = NP[NP['Physical Line 1'] != np.nan]"
   ]
  },
  {
   "cell_type": "code",
   "execution_count": 97,
   "metadata": {},
   "outputs": [
    {
     "data": {
      "text/plain": [
       "74    312 7th Ave N\n",
       "Name: Physical Line 1, dtype: object"
      ]
     },
     "execution_count": 97,
     "metadata": {},
     "output_type": "execute_result"
    }
   ],
   "source": [
    "NP[NP['schoolname'].str.contains('CATHEDRAL')]['Physical Line 1']"
   ]
  },
  {
   "cell_type": "code",
   "execution_count": 99,
   "metadata": {},
   "outputs": [
    {
     "data": {
      "text/html": [
       "<div>\n",
       "<style>\n",
       "    .dataframe thead tr:only-child th {\n",
       "        text-align: right;\n",
       "    }\n",
       "\n",
       "    .dataframe thead th {\n",
       "        text-align: left;\n",
       "    }\n",
       "\n",
       "    .dataframe tbody tr th {\n",
       "        vertical-align: top;\n",
       "    }\n",
       "</style>\n",
       "<table border=\"1\" class=\"dataframe\">\n",
       "  <thead>\n",
       "    <tr style=\"text-align: right;\">\n",
       "      <th></th>\n",
       "      <th>Physical Line 1</th>\n",
       "      <th>Physical Line 2</th>\n",
       "      <th>Physical City</th>\n",
       "      <th>Physical State</th>\n",
       "      <th>Physical Zip</th>\n",
       "      <th>County</th>\n",
       "      <th>schoolname</th>\n",
       "      <th>JuniorsThisYear</th>\n",
       "      <th>JuniorsLastYear</th>\n",
       "      <th>SeniorsThisYear</th>\n",
       "      <th>SeniorsLastYear</th>\n",
       "    </tr>\n",
       "  </thead>\n",
       "  <tbody>\n",
       "    <tr>\n",
       "      <th>74</th>\n",
       "      <td>312 7th Ave N</td>\n",
       "      <td>NaN</td>\n",
       "      <td>Saint Cloud</td>\n",
       "      <td>MN</td>\n",
       "      <td>56303</td>\n",
       "      <td>Stearns</td>\n",
       "      <td>CATHEDRAL - JOHN XXIII</td>\n",
       "      <td>96.0</td>\n",
       "      <td>118.0</td>\n",
       "      <td>121.0</td>\n",
       "      <td>108.0</td>\n",
       "    </tr>\n",
       "  </tbody>\n",
       "</table>\n",
       "</div>"
      ],
      "text/plain": [
       "   Physical Line 1 Physical Line 2 Physical City Physical State Physical Zip  \\\n",
       "74   312 7th Ave N             NaN   Saint Cloud             MN        56303   \n",
       "\n",
       "     County                           schoolname  JuniorsThisYear  \\\n",
       "74  Stearns  CATHEDRAL - JOHN XXIII                          96.0   \n",
       "\n",
       "    JuniorsLastYear  SeniorsThisYear  SeniorsLastYear  \n",
       "74            118.0            121.0            108.0  "
      ]
     },
     "execution_count": 99,
     "metadata": {},
     "output_type": "execute_result"
    }
   ],
   "source": [
    "NP[NP['Physical Line 1'] == '312 7th Ave N']"
   ]
  },
  {
   "cell_type": "code",
   "execution_count": 100,
   "metadata": {
    "collapsed": true
   },
   "outputs": [],
   "source": [
    "NP.to_csv('NonPublic.csv', index = False)"
   ]
  }
 ],
 "metadata": {
  "kernelspec": {
   "display_name": "Python 3",
   "language": "python",
   "name": "python3"
  },
  "language_info": {
   "codemirror_mode": {
    "name": "ipython",
    "version": 3
   },
   "file_extension": ".py",
   "mimetype": "text/x-python",
   "name": "python",
   "nbconvert_exporter": "python",
   "pygments_lexer": "ipython3",
   "version": "3.6.1"
  }
 },
 "nbformat": 4,
 "nbformat_minor": 2
}
