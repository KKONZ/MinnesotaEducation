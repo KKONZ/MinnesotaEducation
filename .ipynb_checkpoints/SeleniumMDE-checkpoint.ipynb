{
 "cells": [
  {
   "cell_type": "code",
   "execution_count": 1,
   "metadata": {},
   "outputs": [],
   "source": [
    "from selenium import webdriver\n",
    "from selenium.webdriver.common.by import By\n",
    "#from selenium.webdriver.common.keys import Keys\n",
    "import time\n",
    "import os\n",
    "from socket import socket\n",
    "import pandas as pd\n",
    "import wget\n",
    "import datetime"
   ]
  },
  {
   "cell_type": "code",
   "execution_count": 2,
   "metadata": {},
   "outputs": [],
   "source": [
    "fp = webdriver.FirefoxProfile()\n",
    "fp.set_preference('browser.download.folderList', 2)\n",
    "fp.set_preference('browser.download.manager.showWhenStarting', False)\n",
    "fp.set_preference('browser.download.dir', '/tmp')\n",
    "fp.set_preference(\"http.response.timeout\", 300)\n",
    "fp.set_preference(\"dom.max_script_run_time\", 300)\n",
    "fp.set_preference('webdriver.load.strategy', 'unstable')\n",
    "fp.set_preference('browser.helperApps.neverAsk.saveToDisk', 'text/plain, application/vnd.ms-excel, text/csv, text/comma-separated-values, application/octet-stream, application/vnd.openxmlformats-officedocument.spreadsheetml.sheet')\n",
    "fp.update_preferences()"
   ]
  },
  {
   "cell_type": "code",
   "execution_count": null,
   "metadata": {},
   "outputs": [],
   "source": [
    "driver = webdriver.Firefox(fp)\n",
    "driver.get('http://w20.education.state.mn.us/MDEAnalytics/Data.jsp')"
   ]
  },
  {
   "cell_type": "code",
   "execution_count": null,
   "metadata": {
    "scrolled": true
   },
   "outputs": [],
   "source": [
    "driver.switch_to.frame(driver.find_element_by_name('floatframe'))"
   ]
  },
  {
   "cell_type": "code",
   "execution_count": null,
   "metadata": {
    "scrolled": false
   },
   "outputs": [],
   "source": [
    "ids_a = driver.find_elements_by_xpath(\"//*[text()='Student']\")"
   ]
  },
  {
   "cell_type": "code",
   "execution_count": null,
   "metadata": {},
   "outputs": [],
   "source": [
    "for ii in ids_a:\n",
    "    link = ii.get_attribute('href')\n",
    "time.sleep(4)"
   ]
  },
  {
   "cell_type": "code",
   "execution_count": null,
   "metadata": {},
   "outputs": [],
   "source": [
    "#driver = webdriver.Firefox(fp) # is this linke needed?\n",
    "driver.get(link)\n",
    "time.sleep(3)"
   ]
  },
  {
   "cell_type": "code",
   "execution_count": null,
   "metadata": {},
   "outputs": [],
   "source": [
    "driver.find_element_by_xpath(\"//input[@id='button1' and @name='button1']\").click()\n",
    "time.sleep(5)"
   ]
  },
  {
   "cell_type": "code",
   "execution_count": null,
   "metadata": {},
   "outputs": [],
   "source": [
    "driver.switch_to.frame(driver.find_element_by_name('Report'))"
   ]
  },
  {
   "cell_type": "code",
   "execution_count": null,
   "metadata": {},
   "outputs": [],
   "source": [
    "newpath_main = r'C:\\MDE_Data'\n",
    "if not os.path.exists(newpath_main):\n",
    "    os.makedirs(newpath_main)   \n",
    "os.chdir(newpath_main)\n",
    "os.getcwd()"
   ]
  },
  {
   "cell_type": "code",
   "execution_count": null,
   "metadata": {},
   "outputs": [],
   "source": [
    "EthnicityGenderDir = r'C:\\MDE_Data\\Enrollment_EthnicityGender'\n",
    "if not os.path.exists(EthnicityGenderDir):\n",
    "    os.makedirs(EthnicityGenderDir)\n",
    "    \n",
    "os.chdir(EthnicityGenderDir)\n",
    "os.getcwd()"
   ]
  },
  {
   "cell_type": "code",
   "execution_count": null,
   "metadata": {},
   "outputs": [],
   "source": [
    "EthGndInd = r'C:\\MDE_Data\\Enrollment_EthnicityGender\\IndividualFiles'\n",
    "if not os.path.exists(EthGndInd):\n",
    "    os.makedirs(EthGndInd)\n",
    "os.chdir(EthGndInd)\n",
    "os.getcwd()"
   ]
  },
  {
   "cell_type": "code",
   "execution_count": null,
   "metadata": {},
   "outputs": [],
   "source": [
    "i = datetime.datetime.now()\n",
    "currentYr = \"%s-\" %(i.year -1) #, str(i.year))\n",
    "lastYr = \"%s-\" %(i.year -2) #, str(i.year-1))\n",
    "twoYr = \"%s-\" %(i.year -3) #, str(i.year-2))\n",
    "threeYr = \"%s-\" %(i.year -4) #, str(i.year-3))\n",
    "fourYr = \"%s-\" %(i.year -5) #, str(i.year-4))\n",
    "print(fourYr)\n",
    "fiveYr = \"%s-\" %(i.year -6) #, str(i.year-5))\n",
    "EnrEthGnd = \"Enrollment by Ethnicity/Gender\"\n",
    "EnrNonPub = \"Nonpublic\""
   ]
  },
  {
   "cell_type": "code",
   "execution_count": null,
   "metadata": {},
   "outputs": [],
   "source": [
    "# Find all Enrollment by Ethnicity/Gender datasets\n",
    "EnrEthGnd = \"Enrollment by Ethnicity/Gender\"\n",
    "try:\n",
    "    EnrEthnicityGender_thisYr = driver.find_element_by_xpath('//a[@href and contains(@title, \"%s\") and contains(@title, \"%s\")]' %(currentYr, EnrEthGnd))\n",
    "    wget.download(EnrEthnicityGender_thisYr.get_attribute('href'), print(EnrEthnicityGender_thisYr.get_attribute('title')))\n",
    "except:\n",
    "    print(\"NA\")\n",
    "try:\n",
    "    EnrEthnicityGender_lastYr = driver.find_element_by_xpath('//a[@href and contains(@title, \"%s\") and contains(@title, \"%s\")]' %(lastYr, EnrEthGnd))\n",
    "    wget.download(EnrEthnicityGender_lastYr.get_attribute('href'), print(EnrEthnicityGender_lastYr.get_attribute('title')))\n",
    "except:\n",
    "    print(\"NA\")\n",
    "try:\n",
    "    EnrEthnicityGender_twoYr = driver.find_element_by_xpath('//a[@href and contains(@title, \"%s\") and contains(@title, \"%s\")]' %(twoYr, EnrEthGnd))\n",
    "    wget.download(EnrEthnicityGender_twoYr.get_attribute('href'), print(EnrEthnicityGender_twoYr.get_attribute('title')))\n",
    "except:\n",
    "    print(\"NA\")\n",
    "try:\n",
    "    EnrEthnicityGender_threeYr = driver.find_element_by_xpath('//a[@href and contains(@title, \"%s\") and contains(@title, \"%s\")]' %(threeYr, EnrEthGnd))\n",
    "    wget.download(EnrEthnicityGender_threeYr.get_attribute('href'), print(EnrEthnicityGender_threeYr.get_attribute('title')))\n",
    "except:\n",
    "    print(\"NA\")\n",
    "try:\n",
    "    EnrEthnicityGender_fourYr = driver.find_element_by_xpath('//a[@href and contains(@title, \"%s\") and contains(@title, \"%s\")]' %(fourYr, EnrEthGnd))\n",
    "    wget.download(EnrEthnicityGender_fourYr.get_attribute('href'), print(EnrEthnicityGender_fourYr.get_attribute('title')))\n",
    "except:\n",
    "    print(\"NA\")\n",
    "try:\n",
    "    EnrEthnicityGender_fiveYr = driver.find_element_by_xpath('//a[@href and contains(@title, \"%s\") and contains(@title, \"%s\")]' %(fiveYr, EnrEthGnd))\n",
    "    wget.download(EnrEthnicityGender_fiveYr.get_attribute('href'), print(EnrEthnicityGender_fiveYr.get_attribute('title')))\n",
    "except:\n",
    "    print(\"NA\")"
   ]
  },
  {
   "cell_type": "code",
   "execution_count": null,
   "metadata": {},
   "outputs": [],
   "source": [
    "newpath = r'C:\\MDE_Data\\Enrollment_Help'\n",
    "if not os.path.exists(newpath):\n",
    "    os.makedirs(newpath)\n",
    "os.chdir(newpath)\n",
    "os.getcwd()"
   ]
  },
  {
   "cell_type": "code",
   "execution_count": null,
   "metadata": {
    "collapsed": true
   },
   "outputs": [],
   "source": [
    "# Find all Enrollment by Ethnicity/Gender datasets\n",
    "#TReport_href_Enrollment_by_EthnicityGender_Help = driver.find_element_by_xpath('//a[@href and @title = \"Help file: Enrollment Field Descriptions\"]')"
   ]
  },
  {
   "cell_type": "code",
   "execution_count": null,
   "metadata": {
    "collapsed": true
   },
   "outputs": [],
   "source": [
    "TReport_href_Enrollment_by_EthnicityGender_Help = driver.find_element_by_xpath('//a[@href and @title = \"Help file: Enrollment Field Descriptions\"]')"
   ]
  },
  {
   "cell_type": "code",
   "execution_count": null,
   "metadata": {},
   "outputs": [],
   "source": [
    "TReport_href_Enrollment_by_EthnicityGender_Help.get_attribute('href')"
   ]
  },
  {
   "cell_type": "code",
   "execution_count": null,
   "metadata": {},
   "outputs": [],
   "source": [
    "link = TReport_href_Enrollment_by_EthnicityGender_Help.get_attribute('href')\n",
    "title = TReport_href_Enrollment_by_EthnicityGender_Help.get_attribute('title')\n",
    "wget.download(link, 'Enrollment_Gender_Ethnicity_Help.xlsx')"
   ]
  },
  {
   "cell_type": "code",
   "execution_count": null,
   "metadata": {},
   "outputs": [],
   "source": [
    "NonPublicDir = r'C:\\MDE_Data\\Enrollment_NonPublic'\n",
    "if not os.path.exists(NonPublicDir):\n",
    "    os.makedirs(NonPublicDir)\n",
    "os.chdir(NonPublicDir)\n",
    "os.getcwd()"
   ]
  },
  {
   "cell_type": "code",
   "execution_count": null,
   "metadata": {},
   "outputs": [],
   "source": [
    "NonPublicInd = r'C:\\MDE_Data\\Enrollment_NonPublic\\IndividualFiles'\n",
    "if not os.path.exists(NonPublicInd):\n",
    "    os.makedirs(NonPublicInd)\n",
    "os.chdir(NonPublicInd)\n",
    "os.getcwd()"
   ]
  },
  {
   "cell_type": "code",
   "execution_count": null,
   "metadata": {},
   "outputs": [],
   "source": [
    "try:\n",
    "    EnrNonPub_thisYr = driver.find_element_by_xpath('//a[@href and contains(@title, \"%s\") and contains(@title, \"%s\")]' %(currentYr, EnrNonPub))\n",
    "    wget.download(EnrNonPub_thisYr.get_attribute('href'), print(EnrEthnicityGender_thisYr.get_attribute('title')))\n",
    "except:\n",
    "    print(\"NA %s\" %(currentYr))\n",
    "try:\n",
    "    EnrNonPub_lastYr = driver.find_element_by_xpath('//a[@href and contains(@title, \"%s\") and contains(@title, \"%s\")]' %(lastYr, EnrNonPub))\n",
    "    wget.download(EnrNonPub_lastYr.get_attribute('href'), print(EnrNonPub_lastYr.get_attribute('title')))\n",
    "except:\n",
    "    print(\"NA %s\" %(lasttYr))\n",
    "try:\n",
    "    EnrNonPub_twoYr = driver.find_element_by_xpath('//a[@href and contains(@title, \"%s\") and contains(@title, \"%s\")]' %(twoYr, EnrNonPub))\n",
    "    wget.download(EnrNonPub_twoYr.get_attribute('href'), print(EnrNonPub_twoYr.get_attribute('title')))\n",
    "except:\n",
    "    print(\"NA %s\" %(twoYr))\n",
    "try:\n",
    "    EnrNonPub_threeYr = driver.find_element_by_xpath('//a[@href and contains(@title, \"%s\") and contains(@title, \"%s\")]' %(threeYr, EnrNonPub))\n",
    "    wget.download(EnrNonPub_threeYr.get_attribute('href'), print(EnrNonPub_threeYr.get_attribute('title')))\n",
    "except:\n",
    "    print(\"NA %s\" %(threeYr))\n",
    "try:\n",
    "    EnrNonPub_fourYr = driver.find_element_by_xpath('//a[@href and contains(@title, \"%s\") and contains(@title, \"%s\")]' %(fourYr, EnrNonPub))\n",
    "    wget.download(EnrNonPub_fourYr.get_attribute('href'), print(EnrNonPub_fourYr.get_attribute('title')))\n",
    "except:\n",
    "    print(\"NA %s\" %(fourYr))\n",
    "try:\n",
    "    EnrNonPub_fiveYr = driver.find_element_by_xpath('//a[@href and contains(@title, \"%s\") and contains(@title, \"%s\")]' %(fiveYr, EnrNonPub))\n",
    "    wget.download(EnrNonPub_fiveYr.get_attribute('href'), print(EnrNonPub_fiveYr.get_attribute('title')))\n",
    "except:\n",
    "    print(\"NA %s\" %(fiveYr))"
   ]
  },
  {
   "cell_type": "code",
   "execution_count": null,
   "metadata": {
    "collapsed": true
   },
   "outputs": [],
   "source": [
    "NonPublic = pd.DataFrame()\n",
    "list_ = []"
   ]
  },
  {
   "cell_type": "code",
   "execution_count": null,
   "metadata": {},
   "outputs": [],
   "source": [
    "for file_ in os.listdir(os.getcwd()):\n",
    "    print(file_)\n",
    "    xl = pd.ExcelFile(file_)\n",
    "    xl = xl.parse()\n",
    "    xl = xl.drop(xl.index[[0]])\n",
    "    xl = xl.drop(xl.index[[len(xl)-1]])\n",
    "    list_.append(xl)"
   ]
  },
  {
   "cell_type": "code",
   "execution_count": null,
   "metadata": {},
   "outputs": [],
   "source": [
    "os.chdir(NonPublicDir)"
   ]
  },
  {
   "cell_type": "code",
   "execution_count": null,
   "metadata": {
    "scrolled": true
   },
   "outputs": [],
   "source": [
    "NonPublic = pd.concat(list_)\n",
    "NonPublic = NonPublic[np.isfinite(df['dst_num'])]\n",
    "NonPublic.head()"
   ]
  },
  {
   "cell_type": "code",
   "execution_count": null,
   "metadata": {},
   "outputs": [],
   "source": [
    "writer = pd.ExcelWriter('Nonpublic.xlsx')\n",
    "NonPublic.to_excel(writer,'Sheet1', index=False)\n",
    "writer.save()"
   ]
  },
  {
   "cell_type": "code",
   "execution_count": null,
   "metadata": {},
   "outputs": [],
   "source": [
    "os.getcwd()"
   ]
  },
  {
   "cell_type": "code",
   "execution_count": null,
   "metadata": {},
   "outputs": [],
   "source": [
    "os.chdir(EthGndInd)"
   ]
  },
  {
   "cell_type": "code",
   "execution_count": null,
   "metadata": {
    "collapsed": true
   },
   "outputs": [],
   "source": [
    "NonPublic = pd.DataFrame()\n",
    "list_ = []"
   ]
  },
  {
   "cell_type": "code",
   "execution_count": null,
   "metadata": {},
   "outputs": [],
   "source": [
    "os.getcwd()"
   ]
  },
  {
   "cell_type": "code",
   "execution_count": null,
   "metadata": {},
   "outputs": [],
   "source": [
    "for file_ in os.listdir(os.getcwd()):\n",
    "    print(file_)\n",
    "    xl = pd.ExcelFile(file_) \n",
    "    xl = xl.parse('School') \n",
    "    xl = xl.drop(xl.index[[0]])\n",
    "    xl = xl.drop(xl.index[[len(xl)-1]])\n",
    "    list_.append(xl)"
   ]
  },
  {
   "cell_type": "code",
   "execution_count": null,
   "metadata": {},
   "outputs": [],
   "source": [
    "os.chdir(EthnicityGenderDir)"
   ]
  },
  {
   "cell_type": "code",
   "execution_count": null,
   "metadata": {
    "scrolled": true
   },
   "outputs": [],
   "source": [
    "EthGnd = pd.concat(list_)\n",
    "EthGnd.head()"
   ]
  },
  {
   "cell_type": "code",
   "execution_count": null,
   "metadata": {
    "collapsed": true
   },
   "outputs": [],
   "source": [
    "writer = pd.ExcelWriter('EthnicityGender.xlsx')\n",
    "EthGnd.to_excel(writer,'Sheet1', index=False)\n",
    "writer.save()"
   ]
  },
  {
   "cell_type": "code",
   "execution_count": null,
   "metadata": {},
   "outputs": [],
   "source": [
    "os.getcwd()"
   ]
  },
  {
   "cell_type": "code",
   "execution_count": null,
   "metadata": {
    "collapsed": true
   },
   "outputs": [],
   "source": [
    "os.chdir(EthGndInd)"
   ]
  },
  {
   "cell_type": "code",
   "execution_count": null,
   "metadata": {},
   "outputs": [],
   "source": [
    "for the_file in os.listdir(EthGndInd):\n",
    "    file_path = os.path.join('IndividualFiles', the_file)\n",
    "    os.remove(the_file)"
   ]
  }
 ],
 "metadata": {
  "kernelspec": {
   "display_name": "Python 3",
   "language": "python",
   "name": "python3"
  },
  "language_info": {
   "codemirror_mode": {
    "name": "ipython",
    "version": 3
   },
   "file_extension": ".py",
   "mimetype": "text/x-python",
   "name": "python",
   "nbconvert_exporter": "python",
   "pygments_lexer": "ipython3",
   "version": "3.6.1"
  }
 },
 "nbformat": 4,
 "nbformat_minor": 2
}
