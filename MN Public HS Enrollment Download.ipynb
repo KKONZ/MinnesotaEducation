{
 "cells": [
  {
   "cell_type": "markdown",
   "metadata": {},
   "source": [
    "# Web Scraping for MDE data"
   ]
  },
  {
   "cell_type": "markdown",
   "metadata": {},
   "source": [
    "In this note book we will explore downloading Minnesota Department of Education data and looking up the ACT code for schools missing that code. For this script you will need to have the packages below as well as a geckodriver with a path available to where this script is being executed. A web browser will be launched to select the actions needed to acquire the department of education data and Selenium will be used with a Python wrapper. "
   ]
  },
  {
   "cell_type": "code",
   "execution_count": 1,
   "metadata": {
    "collapsed": true
   },
   "outputs": [],
   "source": [
    "## Read into memory the classes and functions needed\n",
    "\n",
    "from selenium import webdriver\n",
    "from selenium.webdriver.common.by import By\n",
    "#from selenium.webdriver.common.keys import Keys\n",
    "import time\n",
    "import os\n",
    "from socket import socket\n",
    "import pandas as pd\n",
    "import wget\n",
    "import datetime\n",
    "import shutil\n",
    "#import messytables"
   ]
  },
  {
   "cell_type": "code",
   "execution_count": 2,
   "metadata": {
    "collapsed": true
   },
   "outputs": [],
   "source": [
    "# Set the preferences for the firefox web browser\n",
    "fp = webdriver.FirefoxProfile()\n",
    "fp.set_preference('browser.download.folderList', 2)\n",
    "fp.set_preference('browser.download.manager.showWhenStarting', False)\n",
    "fp.set_preference('browser.download.dir', '/tmp')\n",
    "fp.set_preference(\"http.response.timeout\", 300)\n",
    "fp.set_preference(\"dom.max_script_run_time\", 300)\n",
    "fp.set_preference('webdriver.load.strategy', 'unstable')\n",
    "\n",
    "#fp.set_preference(\"browser.helperApps.neverAsk.openFile\", \"application/octet-stream\");\n",
    "#fp.set_preference(\"browser.helperApps.neverAsk.saveToDisk\", \"application/octet-stream\");\n",
    "\n",
    "fp.set_preference('browser.helperApps.neverAsk.saveToDisk', 'text/plain, application/vnd.ms-excel, text/csv, text/comma-separated-values, application/octet-stream, application/vnd.openxmlformats-officedocument.spreadsheetml.sheet')\n",
    "fp.update_preferences()"
   ]
  },
  {
   "cell_type": "code",
   "execution_count": 3,
   "metadata": {
    "collapsed": true
   },
   "outputs": [],
   "source": [
    "# MDE web app for hs enrollment data\n",
    "searchURL = 'http://w20.education.state.mn.us/MDEAnalytics/Data.jsp'"
   ]
  },
  {
   "cell_type": "code",
   "execution_count": 4,
   "metadata": {
    "collapsed": true
   },
   "outputs": [],
   "source": [
    "# Launch web browser and navigate to the searchURL\n",
    "driver = webdriver.Firefox(fp)\n",
    "driver.get(searchURL)"
   ]
  },
  {
   "cell_type": "code",
   "execution_count": 5,
   "metadata": {
    "collapsed": true
   },
   "outputs": [],
   "source": [
    "# switch into the frame titled 'floatframe'\n",
    "driver.switch_to.frame(driver.find_element_by_name('floatframe'))"
   ]
  },
  {
   "cell_type": "code",
   "execution_count": 6,
   "metadata": {
    "collapsed": true,
    "scrolled": false
   },
   "outputs": [],
   "source": [
    "# find the element by xpath that has the text 'Student'\n",
    "ids_a = driver.find_elements_by_xpath(\"//*[text()='Student']\")"
   ]
  },
  {
   "cell_type": "code",
   "execution_count": 7,
   "metadata": {
    "collapsed": true
   },
   "outputs": [],
   "source": [
    "# extract the link into an object\n",
    "for ii in ids_a:\n",
    "    link = ii.get_attribute('href')\n",
    "time.sleep(4)"
   ]
  },
  {
   "cell_type": "code",
   "execution_count": 8,
   "metadata": {
    "collapsed": true
   },
   "outputs": [],
   "source": [
    "#open the link to Student level data reporting on the MDE site\n",
    "driver.get(link)\n",
    "time.sleep(3)"
   ]
  },
  {
   "cell_type": "code",
   "execution_count": 9,
   "metadata": {
    "collapsed": true,
    "scrolled": true
   },
   "outputs": [],
   "source": [
    "# Switch into the frame titled 'floatframe'\n",
    "time.sleep(10)\n",
    "driver.switch_to.frame(driver.find_element_by_name('floatframe'))"
   ]
  },
  {
   "cell_type": "code",
   "execution_count": 10,
   "metadata": {
    "collapsed": true
   },
   "outputs": [],
   "source": [
    "# Click the button to display all data reporting around Students\n",
    "driver.find_element_by_xpath(\"//input[@id='button1' and @name='button1']\").click()"
   ]
  },
  {
   "cell_type": "code",
   "execution_count": 11,
   "metadata": {
    "collapsed": true
   },
   "outputs": [],
   "source": [
    "# Switch into the frame from the output of the button click\n",
    "driver.switch_to.frame(driver.find_element_by_name('Report'))"
   ]
  },
  {
   "cell_type": "markdown",
   "metadata": {},
   "source": [
    "## Create new folders if they don't already exist for MDE, or however many states. "
   ]
  },
  {
   "cell_type": "markdown",
   "metadata": {},
   "source": [
    "Can also keep everything in one folder as well."
   ]
  },
  {
   "cell_type": "code",
   "execution_count": 12,
   "metadata": {},
   "outputs": [
    {
     "data": {
      "text/plain": [
       "'C:\\\\MDE_Data'"
      ]
     },
     "execution_count": 12,
     "metadata": {},
     "output_type": "execute_result"
    }
   ],
   "source": [
    "newpath_main = r'C:\\MDE_Data'\n",
    "if not os.path.exists(newpath_main):\n",
    "    os.makedirs(newpath_main)   \n",
    "os.chdir(newpath_main)\n",
    "os.getcwd()"
   ]
  },
  {
   "cell_type": "code",
   "execution_count": 13,
   "metadata": {},
   "outputs": [
    {
     "data": {
      "text/plain": [
       "'C:\\\\MDE_Data\\\\Enrollment_EthnicityGender'"
      ]
     },
     "execution_count": 13,
     "metadata": {},
     "output_type": "execute_result"
    }
   ],
   "source": [
    "EthnicityGender = r'C:\\MDE_Data\\Enrollment_EthnicityGender'\n",
    "if not os.path.exists(EthnicityGender):\n",
    "    os.makedirs(EthnicityGender)\n",
    "    \n",
    "os.chdir(EthnicityGender)\n",
    "os.getcwd()"
   ]
  },
  {
   "cell_type": "code",
   "execution_count": 14,
   "metadata": {
    "collapsed": true
   },
   "outputs": [],
   "source": [
    "# Find all Enrollment by Ethnicity/Gender datasets\n",
    "TReport_href_Enrollment_by_EthnicityGender = driver.find_elements_by_xpath('//a[@href and contains(@title,\"Enrollment by Ethnicity/Gender\")]')"
   ]
  },
  {
   "cell_type": "code",
   "execution_count": 15,
   "metadata": {
    "collapsed": true
   },
   "outputs": [],
   "source": [
    "# Create a rolling window object to select a subset of files to download.\n",
    "CurrentTime = datetime.datetime.now()\n",
    "ThisYearFile = str(CurrentTime.year - 1) + '-'\n",
    "LastYearFile = str(CurrentTime.year - 2) + '-'"
   ]
  },
  {
   "cell_type": "code",
   "execution_count": 16,
   "metadata": {},
   "outputs": [
    {
     "data": {
      "text/plain": [
       "'Data file: 2017-18 Enrollment by Ethnicity/Gender'"
      ]
     },
     "execution_count": 16,
     "metadata": {},
     "output_type": "execute_result"
    }
   ],
   "source": [
    "TReport_href_Enrollment_by_EthnicityGender[0].get_attribute('title')"
   ]
  },
  {
   "cell_type": "code",
   "execution_count": 17,
   "metadata": {},
   "outputs": [
    {
     "name": "stdout",
     "output_type": "stream",
     "text": [
      "100% [..........................................................................] 3344268 / 3344268"
     ]
    }
   ],
   "source": [
    " # All Enrollment by Ethnicity/Gender datasets\n",
    "downloadsTitle = []\n",
    "downloadURL = []\n",
    "for ii in TReport_href_Enrollment_by_EthnicityGender:\n",
    "    if ThisYearFile in ii.get_attribute('title'):\n",
    "        ThisYearFileP = wget.download(ii.get_attribute('href'))\n",
    "    if LastYearFile in ii.get_attribute('title'):   \n",
    "        LastYearFileP = wget.download(ii.get_attribute('href')) "
   ]
  },
  {
   "cell_type": "code",
   "execution_count": 18,
   "metadata": {
    "collapsed": true
   },
   "outputs": [],
   "source": [
    "os.chdir(EthnicityGender)\n",
    "ThisYearPublic = pd.read_excel(ThisYearFileP, sheetname = 'School')\n",
    "LastYearPublic = pd.read_excel(LastYearFileP, sheetname = 'School')"
   ]
  },
  {
   "cell_type": "code",
   "execution_count": 19,
   "metadata": {
    "collapsed": true
   },
   "outputs": [],
   "source": [
    "# function for subsetting the public and non-public hs enrollment data\n",
    "def SchoolConditionalJuniors(DataSet):\n",
    "    columnsOfInterest = ['districtNumber', 'districtType', 'schoolNumber', \n",
    "                         'EconomicDevelopmentRegion','SchoolName', \n",
    "                         'TotalMinority', 'TotalStudents', 'Grade']\n",
    "    return DataSet[columnsOfInterest][(DataSet.Grade == '11') &\n",
    "                                      (DataSet.TotalStudents > 0)]"
   ]
  },
  {
   "cell_type": "code",
   "execution_count": 20,
   "metadata": {
    "collapsed": true
   },
   "outputs": [],
   "source": [
    "# function for subsetting the public and non-public hs enrollment data\n",
    "def SchoolConditionalSeniors(DataSet):\n",
    "    columnsOfInterest = ['districtNumber', 'districtType', 'schoolNumber', \n",
    "                         'EconomicDevelopmentRegion',\n",
    "                         'SchoolName', 'TotalMinority', \n",
    "                         'TotalStudents', 'Grade']\n",
    "    return DataSet[columnsOfInterest][(DataSet.Grade == '12') &\n",
    "                                      (DataSet.TotalStudents > 0)]"
   ]
  },
  {
   "cell_type": "code",
   "execution_count": 21,
   "metadata": {
    "collapsed": true
   },
   "outputs": [],
   "source": [
    "JuniorsThsYear = SchoolConditionalJuniors(ThisYearPublic)\n",
    "JuniorsThsYear = JuniorsThsYear.rename(columns = {'TotalStudents': 'JuniorsThisYear',\n",
    "                                                 'TotalMinority': 'JrMinorityThisYear'})\n",
    "JuniorsLstYear = SchoolConditionalJuniors(LastYearPublic)\n",
    "JuniorsLstYear = JuniorsLstYear.rename(columns = {'TotalStudents': 'JuniorsLastYear',\n",
    "                                                 'TotalMinority': 'JrMinorityLastYear'})\n",
    "JuniorsPublic = pd.merge(JuniorsThsYear, JuniorsLstYear, how = 'inner',\n",
    "                         on = ['districtNumber', 'districtType', \n",
    "                               'schoolNumber', 'SchoolName',\n",
    "                              'EconomicDevelopmentRegion'])"
   ]
  },
  {
   "cell_type": "code",
   "execution_count": 22,
   "metadata": {
    "collapsed": true
   },
   "outputs": [],
   "source": [
    "JuniorsPublic = JuniorsPublic[['districtNumber', 'districtType', 'schoolNumber', \n",
    "                               'SchoolName', 'EconomicDevelopmentRegion',\n",
    "                               'JuniorsThisYear', 'JrMinorityThisYear', \n",
    "                               'JuniorsLastYear', 'JrMinorityLastYear']]"
   ]
  },
  {
   "cell_type": "code",
   "execution_count": 23,
   "metadata": {
    "collapsed": true
   },
   "outputs": [],
   "source": [
    "SeniorsThsYear = SchoolConditionalSeniors(ThisYearPublic)\n",
    "SeniorsThsYear = SeniorsThsYear.rename(columns = {'TotalStudents': 'SeniorsThisYear',\n",
    "                                                 'TotalMinority': 'SrMinorityThisYear'})\n",
    "SeniorsLstYear = SchoolConditionalSeniors(LastYearPublic)\n",
    "SeniorsLstYear = SeniorsLstYear.rename(columns = {'TotalStudents': 'SeniorsLastYear',\n",
    "                                                 'TotalMinority': 'SrMinorityLastYear'})\n",
    "SeniorsPublic = pd.merge(SeniorsThsYear, SeniorsLstYear, how = 'inner',\n",
    "                        on = ['districtNumber', 'districtType', \n",
    "                              'schoolNumber', 'SchoolName',\n",
    "                              'EconomicDevelopmentRegion'])"
   ]
  },
  {
   "cell_type": "code",
   "execution_count": 24,
   "metadata": {
    "collapsed": true
   },
   "outputs": [],
   "source": [
    "SeniorsPublic = SeniorsPublic[['districtNumber', 'districtType', 'schoolNumber', \n",
    "                               'SchoolName', 'EconomicDevelopmentRegion',\n",
    "                               'SeniorsThisYear', 'SrMinorityThisYear', \n",
    "                               'SeniorsLastYear', 'SrMinorityLastYear']]"
   ]
  },
  {
   "cell_type": "code",
   "execution_count": 25,
   "metadata": {
    "collapsed": true
   },
   "outputs": [],
   "source": [
    "TargetDF = pd.merge(JuniorsPublic, SeniorsPublic, \n",
    "                    how = 'inner', on = ['districtNumber', \n",
    "                                         'districtType',\n",
    "                                         'schoolNumber', \n",
    "                                         'EconomicDevelopmentRegion',\n",
    "                                         'SchoolName'])"
   ]
  },
  {
   "cell_type": "code",
   "execution_count": 26,
   "metadata": {},
   "outputs": [
    {
     "data": {
      "text/html": [
       "<div>\n",
       "<style>\n",
       "    .dataframe thead tr:only-child th {\n",
       "        text-align: right;\n",
       "    }\n",
       "\n",
       "    .dataframe thead th {\n",
       "        text-align: left;\n",
       "    }\n",
       "\n",
       "    .dataframe tbody tr th {\n",
       "        vertical-align: top;\n",
       "    }\n",
       "</style>\n",
       "<table border=\"1\" class=\"dataframe\">\n",
       "  <thead>\n",
       "    <tr style=\"text-align: right;\">\n",
       "      <th></th>\n",
       "      <th>districtNumber</th>\n",
       "      <th>districtType</th>\n",
       "      <th>schoolNumber</th>\n",
       "      <th>SchoolName</th>\n",
       "      <th>EconomicDevelopmentRegion</th>\n",
       "      <th>JuniorsThisYear</th>\n",
       "      <th>JrMinorityThisYear</th>\n",
       "      <th>JuniorsLastYear</th>\n",
       "      <th>JrMinorityLastYear</th>\n",
       "      <th>SeniorsThisYear</th>\n",
       "      <th>SrMinorityThisYear</th>\n",
       "      <th>SeniorsLastYear</th>\n",
       "      <th>SrMinorityLastYear</th>\n",
       "    </tr>\n",
       "  </thead>\n",
       "  <tbody>\n",
       "    <tr>\n",
       "      <th>0</th>\n",
       "      <td>1.0</td>\n",
       "      <td>1.0</td>\n",
       "      <td>1.0</td>\n",
       "      <td>AITKIN SECONDARY SCHOOL</td>\n",
       "      <td>03</td>\n",
       "      <td>86.0</td>\n",
       "      <td>8.0</td>\n",
       "      <td>81.0</td>\n",
       "      <td>7.0</td>\n",
       "      <td>82.0</td>\n",
       "      <td>6.0</td>\n",
       "      <td>94.0</td>\n",
       "      <td>6.0</td>\n",
       "    </tr>\n",
       "    <tr>\n",
       "      <th>1</th>\n",
       "      <td>1.0</td>\n",
       "      <td>1.0</td>\n",
       "      <td>6.0</td>\n",
       "      <td>AITKIN ALTERNATIVE LEARNING PROGRAM</td>\n",
       "      <td>03</td>\n",
       "      <td>1.0</td>\n",
       "      <td>0.0</td>\n",
       "      <td>1.0</td>\n",
       "      <td>0.0</td>\n",
       "      <td>5.0</td>\n",
       "      <td>1.0</td>\n",
       "      <td>2.0</td>\n",
       "      <td>0.0</td>\n",
       "    </tr>\n",
       "    <tr>\n",
       "      <th>2</th>\n",
       "      <td>1.0</td>\n",
       "      <td>3.0</td>\n",
       "      <td>347.0</td>\n",
       "      <td>FAIR Senior High</td>\n",
       "      <td>11</td>\n",
       "      <td>52.0</td>\n",
       "      <td>38.0</td>\n",
       "      <td>71.0</td>\n",
       "      <td>39.0</td>\n",
       "      <td>65.0</td>\n",
       "      <td>37.0</td>\n",
       "      <td>63.0</td>\n",
       "      <td>39.0</td>\n",
       "    </tr>\n",
       "    <tr>\n",
       "      <th>3</th>\n",
       "      <td>1.0</td>\n",
       "      <td>3.0</td>\n",
       "      <td>348.0</td>\n",
       "      <td>MERC</td>\n",
       "      <td>11</td>\n",
       "      <td>5.0</td>\n",
       "      <td>3.0</td>\n",
       "      <td>9.0</td>\n",
       "      <td>9.0</td>\n",
       "      <td>46.0</td>\n",
       "      <td>41.0</td>\n",
       "      <td>49.0</td>\n",
       "      <td>43.0</td>\n",
       "    </tr>\n",
       "    <tr>\n",
       "      <th>4</th>\n",
       "      <td>1.0</td>\n",
       "      <td>3.0</td>\n",
       "      <td>349.0</td>\n",
       "      <td>LORING-NICOLLET HIGH</td>\n",
       "      <td>11</td>\n",
       "      <td>15.0</td>\n",
       "      <td>11.0</td>\n",
       "      <td>11.0</td>\n",
       "      <td>9.0</td>\n",
       "      <td>37.0</td>\n",
       "      <td>24.0</td>\n",
       "      <td>33.0</td>\n",
       "      <td>24.0</td>\n",
       "    </tr>\n",
       "  </tbody>\n",
       "</table>\n",
       "</div>"
      ],
      "text/plain": [
       "   districtNumber  districtType  schoolNumber  \\\n",
       "0             1.0           1.0           1.0   \n",
       "1             1.0           1.0           6.0   \n",
       "2             1.0           3.0         347.0   \n",
       "3             1.0           3.0         348.0   \n",
       "4             1.0           3.0         349.0   \n",
       "\n",
       "                            SchoolName EconomicDevelopmentRegion  \\\n",
       "0  AITKIN SECONDARY SCHOOL                                    03   \n",
       "1  AITKIN ALTERNATIVE LEARNING PROGRAM                        03   \n",
       "2  FAIR Senior High                                           11   \n",
       "3  MERC                                                       11   \n",
       "4  LORING-NICOLLET HIGH                                       11   \n",
       "\n",
       "   JuniorsThisYear  JrMinorityThisYear  JuniorsLastYear  JrMinorityLastYear  \\\n",
       "0             86.0                 8.0             81.0                 7.0   \n",
       "1              1.0                 0.0              1.0                 0.0   \n",
       "2             52.0                38.0             71.0                39.0   \n",
       "3              5.0                 3.0              9.0                 9.0   \n",
       "4             15.0                11.0             11.0                 9.0   \n",
       "\n",
       "   SeniorsThisYear  SrMinorityThisYear  SeniorsLastYear  SrMinorityLastYear  \n",
       "0             82.0                 6.0             94.0                 6.0  \n",
       "1              5.0                 1.0              2.0                 0.0  \n",
       "2             65.0                37.0             63.0                39.0  \n",
       "3             46.0                41.0             49.0                43.0  \n",
       "4             37.0                24.0             33.0                24.0  "
      ]
     },
     "execution_count": 26,
     "metadata": {},
     "output_type": "execute_result"
    }
   ],
   "source": [
    "TargetDF.head()"
   ]
  },
  {
   "cell_type": "code",
   "execution_count": 31,
   "metadata": {
    "collapsed": true
   },
   "outputs": [],
   "source": [
    "# GET MDE Lookup Table"
   ]
  },
  {
   "cell_type": "code",
   "execution_count": 30,
   "metadata": {},
   "outputs": [
    {
     "name": "stdout",
     "output_type": "stream",
     "text": [
      "-1 / unknown"
     ]
    }
   ],
   "source": [
    "wget.download('http://w20.education.state.mn.us/MdeOrgView/tag/extractContacts/MDEORG_DISTRICT_SCHOOL?description=')\n",
    "filename =  'School_' + datetime.datetime.today().strftime('%m-%d-%Y') + '.csv'\n",
    "LookUp = pd.read_csv(filename)\n",
    "LookUpColumns = ['District Number', 'District Type', 'School Number','Physical Line 1',  'Physical Line 2',\n",
    "       'Physical City', 'Physical State', 'Physical Zip','County','ACT ID']"
   ]
  },
  {
   "cell_type": "code",
   "execution_count": 31,
   "metadata": {},
   "outputs": [],
   "source": [
    "MNp = pd.merge(LookUp[LookUpColumns],TargetDF,  how = \"inner\"\n",
    "                  , right_on = ['districtNumber', 'districtType', 'schoolNumber']\n",
    "                  , left_on = ['District Number', 'District Type', 'School Number']\n",
    "                   ).drop(['districtNumber', \n",
    "                           'districtType', \n",
    "                           'schoolNumber',\n",
    "                           'District Number', \n",
    "                           'District Type', \n",
    "                           'School Number'],\n",
    "                          axis = 1).drop_duplicates()"
   ]
  },
  {
   "cell_type": "code",
   "execution_count": 33,
   "metadata": {},
   "outputs": [],
   "source": [
    "MNp = MNp[['Physical Line 1',  'Physical Line 2',\n",
    "       'Physical City', 'Physical State', \n",
    "    'Physical Zip','County','ACT ID','EconomicDevelopmentRegion',\n",
    "'SeniorsThisYear', 'SeniorsLastYear', 'SrMinorityThisYear', 'SrMinorityLastYear',\n",
    "'JuniorsThisYear', 'JuniorsLastYear', 'JrMinorityThisYear', 'JrMinorityLastYear']]"
   ]
  },
  {
   "cell_type": "code",
   "execution_count": 34,
   "metadata": {
    "collapsed": true
   },
   "outputs": [],
   "source": [
    "MNp['PhysicalZipSuff'] = MNp['Physical Zip'].str.split('-').str[1]"
   ]
  },
  {
   "cell_type": "code",
   "execution_count": 35,
   "metadata": {
    "collapsed": true
   },
   "outputs": [],
   "source": [
    "MNp['Physical Zip'] = MNp['Physical Zip'].str.split('-').str[0]"
   ]
  },
  {
   "cell_type": "code",
   "execution_count": 36,
   "metadata": {
    "collapsed": true
   },
   "outputs": [],
   "source": [
    "MNp = MNp.rename(columns = {'District Number': 'DistrictNumber', \n",
    "       'District Type': 'DistrictType', \n",
    "       'School Number': 'SchoolNumber',\n",
    "       'Physical Line 1': 'PhysicalLine1',  \n",
    "       'Physical Line 2': 'PhysicalLine2',\n",
    "       'Physical City': 'PhysicalCity', \n",
    "       'Physical State': 'PhysicalState',\n",
    "       'Physical Zip': 'PhysicalZip',\n",
    "       'ACT ID': 'ACTID', \n",
    "       'Data Extracted': 'DataExtracted'})"
   ]
  },
  {
   "cell_type": "code",
   "execution_count": 38,
   "metadata": {
    "collapsed": true
   },
   "outputs": [],
   "source": [
    "MNp.to_csv(\"MnPublic.csv\", index = False)"
   ]
  },
  {
   "cell_type": "code",
   "execution_count": 40,
   "metadata": {},
   "outputs": [
    {
     "data": {
      "text/plain": [
       "167"
      ]
     },
     "execution_count": 40,
     "metadata": {},
     "output_type": "execute_result"
    }
   ],
   "source": [
    "len(MNp[MNp['ACTID'].isnull() == True])"
   ]
  },
  {
   "cell_type": "code",
   "execution_count": 41,
   "metadata": {},
   "outputs": [
    {
     "data": {
      "text/plain": [
       "690"
      ]
     },
     "execution_count": 41,
     "metadata": {},
     "output_type": "execute_result"
    }
   ],
   "source": [
    "len(MNp)"
   ]
  },
  {
   "cell_type": "code",
   "execution_count": 43,
   "metadata": {},
   "outputs": [
    {
     "data": {
      "text/plain": [
       "523"
      ]
     },
     "execution_count": 43,
     "metadata": {},
     "output_type": "execute_result"
    }
   ],
   "source": [
    "len(MNp[MNp['ACTID'].isnull() == False])"
   ]
  },
  {
   "cell_type": "code",
   "execution_count": 34,
   "metadata": {
    "collapsed": true
   },
   "outputs": [],
   "source": [
    "# Pre-Lookup missing ACT"
   ]
  },
  {
   "cell_type": "code",
   "execution_count": 35,
   "metadata": {
    "collapsed": true
   },
   "outputs": [],
   "source": [
    "ActLookupRequest = missingACT[['SchoolName', 'Physical City']]"
   ]
  },
  {
   "cell_type": "code",
   "execution_count": 36,
   "metadata": {
    "collapsed": true
   },
   "outputs": [],
   "source": [
    "State = 'Minnesota'"
   ]
  },
  {
   "cell_type": "code",
   "execution_count": 37,
   "metadata": {},
   "outputs": [
    {
     "name": "stderr",
     "output_type": "stream",
     "text": [
      "C:\\Users\\karlk\\Anaconda3\\lib\\site-packages\\ipykernel_launcher.py:1: SettingWithCopyWarning: \n",
      "A value is trying to be set on a copy of a slice from a DataFrame.\n",
      "Try using .loc[row_indexer,col_indexer] = value instead\n",
      "\n",
      "See the caveats in the documentation: http://pandas.pydata.org/pandas-docs/stable/indexing.html#indexing-view-versus-copy\n",
      "  \"\"\"Entry point for launching an IPython kernel.\n"
     ]
    }
   ],
   "source": [
    "ActLookupRequest['State'] = State"
   ]
  },
  {
   "cell_type": "code",
   "execution_count": 38,
   "metadata": {
    "collapsed": true
   },
   "outputs": [],
   "source": [
    "actURL = 'https://www.act.org/content/act/en/products-and-services/the-act/registration/high-school-codes-lookup.html'"
   ]
  },
  {
   "cell_type": "code",
   "execution_count": 45,
   "metadata": {
    "collapsed": true
   },
   "outputs": [],
   "source": [
    "ActLookupRequest = ActLookupRequest.reset_index(drop = True)"
   ]
  },
  {
   "cell_type": "code",
   "execution_count": 46,
   "metadata": {
    "collapsed": true
   },
   "outputs": [],
   "source": [
    "import numpy as np\n",
    "from PIL import ImageGrab\n",
    "import cv2\n",
    "import time\n",
    "import pyautogui\n",
    "from random import randint\n",
    "import re\n",
    "#TODO navigate browser to actURL"
   ]
  },
  {
   "cell_type": "code",
   "execution_count": 58,
   "metadata": {
    "collapsed": true
   },
   "outputs": [],
   "source": [
    "for i in range(len(ActLookupPublicRequest)):\n",
    "    pyautogui.click(button='left', x=500, y=500)\n",
    "    time.sleep(1)\n",
    "    time.sleep(1)\n",
    "    time.sleep(1)\n",
    "    pyautogui.typewrite('Minnesota')\n",
    "    time.sleep(1)\n",
    "    time.sleep(1)\n",
    "    time.sleep(1)\n",
    "    pyautogui.press('tab')\n",
    "    time.sleep(1)\n",
    "    time.sleep(1)\n",
    "    time.sleep(1)\n",
    "    pyautogui.typewrite(ActLookupPublicRequest['Physical City'].iloc[i]) \n",
    "    pyautogui.press('tab')  \n",
    "    time.sleep(1)\n",
    "    time.sleep(1)\n",
    "    time.sleep(1)\n",
    "    #original\n",
    "    #pyautogui.typewrite(ActLookupRequest.SchoolName.[i])\n",
    "    pyautogui.typewrite(ActLookupPublicRequest.SchoolName.iloc[i])\n",
    "    time.sleep(1)\n",
    "    time.sleep(1)\n",
    "    time.sleep(1)\n",
    "    pyautogui.press('tab')    \n",
    "    pyautogui.press('enter')\n",
    "    time.sleep(1)\n",
    "    time.sleep(1)\n",
    "    time.sleep(1)\n",
    "    time.sleep(1)\n",
    "    time.sleep(1)\n",
    "    try:\n",
    "        time.sleep(1)\n",
    "        time.sleep(1)\n",
    "        time.sleep(1)\n",
    "        xpath = driver.find_element_by_xpath((\"//ul[@class='center-code']\"))\n",
    "        actcode = xpath.text\n",
    "        import re\n",
    "        actcode = re.sub(\"[^0-9]\", \"\",actcode)\n",
    "        act.append(actcode)\n",
    "        sn.append(ActLookupPublicRequest.SchoolName.iloc[i])\n",
    "        city.append(ActLookupPublicRequest['Physical City'].iloc[i])\n",
    "        time.sleep(1)\n",
    "        driver.get(actURL)\n",
    "    except:\n",
    "        \n",
    "        time.sleep(1)\n",
    "        driver.get(actURL)\n",
    "        continue \n",
    "    if cv2.waitKey(25) & 0xFF == ord('q'):\n",
    "        cv2.destroyAllWindows()\n",
    "        break"
   ]
  },
  {
   "cell_type": "code",
   "execution_count": null,
   "metadata": {
    "collapsed": true
   },
   "outputs": [],
   "source": [
    "ACTPublicFound = pd.DataFrame({'ACT ID': act,\n",
    "        'SchoolName': sn,\n",
    "        'Physical City': city})\n",
    "#ACTPublicFound = FinalMDEPublicACT \n",
    "PublicLookupUpdate = pd.merge(ActLookupPublicRequest, ACTPublicFound\n",
    "                              , on = ['SchoolName', 'Physical City']\n",
    "                              , how= 'inner')"
   ]
  },
  {
   "cell_type": "code",
   "execution_count": null,
   "metadata": {
    "collapsed": true
   },
   "outputs": [],
   "source": [
    "PublicLookupUpdate.to_csv(\"HS_ACT_FOUND.csv\", index = False)"
   ]
  }
 ],
 "metadata": {
  "kernelspec": {
   "display_name": "Python 3",
   "language": "python",
   "name": "python3"
  },
  "language_info": {
   "codemirror_mode": {
    "name": "ipython",
    "version": 3
   },
   "file_extension": ".py",
   "mimetype": "text/x-python",
   "name": "python",
   "nbconvert_exporter": "python",
   "pygments_lexer": "ipython3",
   "version": "3.6.1"
  }
 },
 "nbformat": 4,
 "nbformat_minor": 2
}
