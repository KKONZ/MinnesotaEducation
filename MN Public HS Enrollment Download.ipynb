{
 "cells": [
  {
   "cell_type": "markdown",
   "metadata": {},
   "source": [
    "# Web Scraping for MDE data"
   ]
  },
  {
   "cell_type": "markdown",
   "metadata": {},
   "source": [
    "In this note book we will explore downloading Minnesota Department of Education data and looking up the ACT code for schools missing that code. For this script you will need to have the packages below as well as a geckodriver with a path available to where this script is being executed. A web browser will be launched to select the actions needed to acquire the department of education data and Selenium will be used with a Python wrapper. "
   ]
  },
  {
   "cell_type": "code",
   "execution_count": 1,
   "metadata": {
    "collapsed": true
   },
   "outputs": [],
   "source": [
    "## Read into memory the classes and functions needed\n",
    "\n",
    "from selenium import webdriver\n",
    "from selenium.webdriver.common.by import By\n",
    "#from selenium.webdriver.common.keys import Keys\n",
    "import time\n",
    "import os\n",
    "from socket import socket\n",
    "import pandas as pd\n",
    "import wget\n",
    "import xlrd\n",
    "import xlwt\n",
    "from xlrd.sheet import ctype_text \n",
    "import datetime\n",
    "import shutil\n",
    "#import messytables"
   ]
  },
  {
   "cell_type": "code",
   "execution_count": 2,
   "metadata": {
    "collapsed": true
   },
   "outputs": [],
   "source": [
    "# Set the preferences for the firefox web browser\n",
    "fp = webdriver.FirefoxProfile()\n",
    "fp.set_preference('browser.download.folderList', 2)\n",
    "fp.set_preference('browser.download.manager.showWhenStarting', False)\n",
    "fp.set_preference('browser.download.dir', '/tmp')\n",
    "fp.set_preference(\"http.response.timeout\", 300)\n",
    "fp.set_preference(\"dom.max_script_run_time\", 300)\n",
    "fp.set_preference('webdriver.load.strategy', 'unstable')\n",
    "\n",
    "#fp.set_preference(\"browser.helperApps.neverAsk.openFile\", \"application/octet-stream\");\n",
    "#fp.set_preference(\"browser.helperApps.neverAsk.saveToDisk\", \"application/octet-stream\");\n",
    "\n",
    "fp.set_preference('browser.helperApps.neverAsk.saveToDisk', 'text/plain, application/vnd.ms-excel, text/csv, text/comma-separated-values, application/octet-stream, application/vnd.openxmlformats-officedocument.spreadsheetml.sheet')\n",
    "fp.update_preferences()"
   ]
  },
  {
   "cell_type": "code",
   "execution_count": 3,
   "metadata": {
    "collapsed": true
   },
   "outputs": [],
   "source": [
    "# MDE web app for hs enrollment data\n",
    "searchURL = 'http://w20.education.state.mn.us/MDEAnalytics/Data.jsp'"
   ]
  },
  {
   "cell_type": "code",
   "execution_count": 4,
   "metadata": {
    "collapsed": true
   },
   "outputs": [],
   "source": [
    "# Launch web browser and navigate to the searchURL\n",
    "driver = webdriver.Firefox(fp)\n",
    "driver.get(searchURL)"
   ]
  },
  {
   "cell_type": "code",
   "execution_count": null,
   "metadata": {
    "collapsed": true
   },
   "outputs": [],
   "source": [
    "# switch into the frame titled 'floatframe'\n",
    "driver.switch_to.frame(driver.find_element_by_name('floatframe'))"
   ]
  },
  {
   "cell_type": "code",
   "execution_count": null,
   "metadata": {
    "collapsed": true,
    "scrolled": false
   },
   "outputs": [],
   "source": [
    "# find the element by xpath that has the text 'Student'\n",
    "ids_a = driver.find_elements_by_xpath(\"//*[text()='Student']\")"
   ]
  },
  {
   "cell_type": "code",
   "execution_count": null,
   "metadata": {
    "collapsed": true
   },
   "outputs": [],
   "source": [
    "# extract the link into an object\n",
    "for ii in ids_a:\n",
    "    link = ii.get_attribute('href')\n",
    "time.sleep(4)"
   ]
  },
  {
   "cell_type": "code",
   "execution_count": null,
   "metadata": {
    "collapsed": true
   },
   "outputs": [],
   "source": [
    "print(link)"
   ]
  },
  {
   "cell_type": "code",
   "execution_count": null,
   "metadata": {
    "collapsed": true
   },
   "outputs": [],
   "source": [
    "#open the link to Student level data reporting on the MDE site\n",
    "driver.get(link)\n",
    "time.sleep(3)"
   ]
  },
  {
   "cell_type": "code",
   "execution_count": null,
   "metadata": {
    "collapsed": true,
    "scrolled": true
   },
   "outputs": [],
   "source": [
    "# Switch into the frame titled 'floatframe'\n",
    "driver.switch_to.frame(driver.find_element_by_name('floatframe'))"
   ]
  },
  {
   "cell_type": "code",
   "execution_count": null,
   "metadata": {
    "collapsed": true
   },
   "outputs": [],
   "source": [
    "# Click the button to display all data reporting around Students\n",
    "driver.find_element_by_xpath(\"//input[@id='button1' and @name='button1']\").click()"
   ]
  },
  {
   "cell_type": "code",
   "execution_count": null,
   "metadata": {
    "collapsed": true
   },
   "outputs": [],
   "source": [
    "# Switch into the frame from the output of the button click\n",
    "driver.switch_to.frame(driver.find_element_by_name('Report'))"
   ]
  },
  {
   "cell_type": "markdown",
   "metadata": {},
   "source": [
    "## Create new folders if they don't already exist for MDE, or however many states. "
   ]
  },
  {
   "cell_type": "markdown",
   "metadata": {},
   "source": [
    "Can also keep everything in one folder as well."
   ]
  },
  {
   "cell_type": "code",
   "execution_count": null,
   "metadata": {
    "collapsed": true
   },
   "outputs": [],
   "source": [
    "newpath_main = r'C:\\MDE_Data'\n",
    "if not os.path.exists(newpath_main):\n",
    "    os.makedirs(newpath_main)   \n",
    "os.chdir(newpath_main)\n",
    "os.getcwd()"
   ]
  },
  {
   "cell_type": "code",
   "execution_count": null,
   "metadata": {
    "collapsed": true
   },
   "outputs": [],
   "source": [
    "# Can probably remove this sub-dir"
   ]
  },
  {
   "cell_type": "code",
   "execution_count": 6,
   "metadata": {},
   "outputs": [
    {
     "data": {
      "text/plain": [
       "'C:\\\\MDE_Data\\\\Enrollment_EthnicityGender'"
      ]
     },
     "execution_count": 6,
     "metadata": {},
     "output_type": "execute_result"
    }
   ],
   "source": [
    "EthnicityGender = r'C:\\MDE_Data\\Enrollment_EthnicityGender'\n",
    "if not os.path.exists(EthnicityGender):\n",
    "    os.makedirs(EthnicityGender)\n",
    "    \n",
    "os.chdir(EthnicityGender)\n",
    "os.getcwd()"
   ]
  },
  {
   "cell_type": "code",
   "execution_count": null,
   "metadata": {
    "collapsed": true
   },
   "outputs": [],
   "source": [
    "# Find all Enrollment by Ethnicity/Gender datasets\n",
    "TReport_href_Enrollment_by_EthnicityGender = driver.find_elements_by_xpath('//a[@href and contains(@title,\"Enrollment by Ethnicity/Gender\")]')"
   ]
  },
  {
   "cell_type": "code",
   "execution_count": 9,
   "metadata": {},
   "outputs": [
    {
     "data": {
      "text/plain": [
       "'2016-'"
      ]
     },
     "execution_count": 9,
     "metadata": {},
     "output_type": "execute_result"
    }
   ],
   "source": [
    "# Create a rolling window object to select a subset of files to download.\n",
    "CurrentTime = datetime.datetime.now()\n",
    "ThisYearFile = str(CurrentTime.year - 1) + '-'\n",
    "ThisYearFile\n",
    "LastYearFile = str(CurrentTime.year - 2) + '-'\n",
    "LastYearFile"
   ]
  },
  {
   "cell_type": "code",
   "execution_count": 10,
   "metadata": {},
   "outputs": [
    {
     "data": {
      "text/plain": [
       "'2017-'"
      ]
     },
     "execution_count": 10,
     "metadata": {},
     "output_type": "execute_result"
    }
   ],
   "source": [
    "ThisYearFile"
   ]
  },
  {
   "cell_type": "code",
   "execution_count": null,
   "metadata": {
    "collapsed": true
   },
   "outputs": [],
   "source": [
    "TReport_href_Enrollment_by_EthnicityGender[0].get_attribute('title')"
   ]
  },
  {
   "cell_type": "code",
   "execution_count": null,
   "metadata": {
    "collapsed": true
   },
   "outputs": [],
   "source": [
    " # All Enrollment by Ethnicity/Gender datasets\n",
    "downloadsTitle = []\n",
    "downloadURL = []\n",
    "for ii in TReport_href_Enrollment_by_EthnicityGender:\n",
    "    if ThisYearFile in ii.get_attribute('title') or LastYearFile in ii.get_attribute('title'):\n",
    "        wget.download(ii.get_attribute('href'), print(ii.get_attribute('title')))\n",
    "        downloadsTitle.append(ii.get_attribute('title'))\n",
    "        downloadURL.append(ii.get_attribute('href'))\n",
    "\n",
    "        "
   ]
  },
  {
   "cell_type": "code",
   "execution_count": 11,
   "metadata": {
    "collapsed": true
   },
   "outputs": [],
   "source": [
    "ThisYearFileExtended = ThisYearFile + str(CurrentTime.year)\n",
    "LastYearFileExtended = LastYearFile + str(CurrentTime.year)"
   ]
  },
  {
   "cell_type": "code",
   "execution_count": 12,
   "metadata": {},
   "outputs": [
    {
     "data": {
      "text/plain": [
       "'2017-2018'"
      ]
     },
     "execution_count": 12,
     "metadata": {},
     "output_type": "execute_result"
    }
   ],
   "source": [
    "ThisYearFileExtended"
   ]
  },
  {
   "cell_type": "code",
   "execution_count": 13,
   "metadata": {
    "collapsed": true
   },
   "outputs": [],
   "source": [
    "CurrentSeniorsFile = ThisYearFileExtended + ' Enrollment by Ethnicity_Gender.xlsx'\n",
    "PreviouSeniorFile = LastYearFileExtended + ' Enrollment by Ethnicity_Gender.xlsx'"
   ]
  },
  {
   "cell_type": "code",
   "execution_count": 14,
   "metadata": {},
   "outputs": [
    {
     "data": {
      "text/plain": [
       "'2017-2018 Enrollment by Ethnicity_Gender.xlsx'"
      ]
     },
     "execution_count": 14,
     "metadata": {},
     "output_type": "execute_result"
    }
   ],
   "source": [
    "CurrentSeniorsFile"
   ]
  },
  {
   "cell_type": "code",
   "execution_count": 15,
   "metadata": {
    "collapsed": true
   },
   "outputs": [],
   "source": [
    "os.chdir(EthnicityGender)\n",
    "ThisYearPublic = pd.read_excel(CurrentSeniorsFile, sheetname = 'School')\n",
    "LastYearPublic = pd.read_excel(CurrentSeniorsFile, sheetname = 'School')"
   ]
  },
  {
   "cell_type": "code",
   "execution_count": 16,
   "metadata": {
    "collapsed": true
   },
   "outputs": [],
   "source": [
    "LastYearFileExtended = LastYearFile + str(CurrentTime.year - 1)"
   ]
  },
  {
   "cell_type": "code",
   "execution_count": 17,
   "metadata": {},
   "outputs": [
    {
     "data": {
      "text/plain": [
       "'2016-2017'"
      ]
     },
     "execution_count": 17,
     "metadata": {},
     "output_type": "execute_result"
    }
   ],
   "source": [
    "LastYearFileExtended"
   ]
  },
  {
   "cell_type": "code",
   "execution_count": null,
   "metadata": {
    "collapsed": true
   },
   "outputs": [],
   "source": [
    "# function for subsetting the public and non-public hs enrollment data\n",
    "def SchoolConditional(DataSet):\n",
    "    columnsOfInterest = ['districtNumber', 'districtType', \n",
    "                     'DistrictName', 'schoolNumber', 'EconomicDevelopmentRegion',\n",
    "                     'SchoolName', 'TotalMinority', \n",
    "                     'TotalStudents', 'DataYear', 'Grade']\n",
    "    return DataSet[columnsOfInterest][((DataSet.Grade == '11') | (DataSet.Grade == '12')) &\n",
    "                                      (DataSet.TotalStudents > 0)]"
   ]
  },
  {
   "cell_type": "code",
   "execution_count": null,
   "metadata": {
    "collapsed": true
   },
   "outputs": [],
   "source": [
    "Fty = SchoolConditional(ThisYearPublic)#)\n",
    "Fly = SchoolConditional(LastYearPublic)#)"
   ]
  },
  {
   "cell_type": "code",
   "execution_count": null,
   "metadata": {
    "collapsed": true
   },
   "outputs": [],
   "source": [
    "TargetDF = pd.merge(Fty, Fly, how = 'inner', on = ['districtNumber', \n",
    "                                                   'districtType', \n",
    "                                                   'DistrictName',  \n",
    "                                                   'schoolNumber', \n",
    "                                                   'Grade'])"
   ]
  },
  {
   "cell_type": "code",
   "execution_count": null,
   "metadata": {
    "collapsed": true
   },
   "outputs": [],
   "source": [
    "TargetDF['EnrollmentDelta'] = TargetDF['TotalStudents_x']/TargetDF['TotalStudents_y']"
   ]
  },
  {
   "cell_type": "code",
   "execution_count": null,
   "metadata": {
    "collapsed": true
   },
   "outputs": [],
   "source": [
    "TargetDF = TargetDF[['districtNumber', 'districtType', 'DistrictName', \n",
    "          'schoolNumber','EnrollmentDelta', 'Grade']]"
   ]
  },
  {
   "cell_type": "code",
   "execution_count": null,
   "metadata": {
    "collapsed": true
   },
   "outputs": [],
   "source": [
    "TargetDF.to_csv(\"EnrollmentDelta.csv\", index = False)"
   ]
  },
  {
   "cell_type": "code",
   "execution_count": null,
   "metadata": {
    "collapsed": true
   },
   "outputs": [],
   "source": [
    "# GET MDE Lookup Table"
   ]
  },
  {
   "cell_type": "code",
   "execution_count": null,
   "metadata": {
    "collapsed": true
   },
   "outputs": [],
   "source": [
    "wget.download('http://w20.education.state.mn.us/MdeOrgView/tag/extractContacts/MDEORG_DISTRICT_SCHOOL?description=')\n",
    "filename =  'School_' + datetime.datetime.today().strftime('%m-%d-%Y') + '.csv'\n",
    "LookUp = pd.read_csv(filename)\n",
    "LookUpColumns = ['District Number', 'District Type', 'School Number','Physical Line 1',  'Physical Line 2',\n",
    "       'Physical City', 'Physical State', 'Physical Zip','County','ACT ID', 'Data Extracted']"
   ]
  },
  {
   "cell_type": "code",
   "execution_count": 18,
   "metadata": {
    "collapsed": true
   },
   "outputs": [],
   "source": [
    "PublicHSFull = pd.merge(PublicLookUp[LookUpColumns],PublicHS,  how = \"inner\"\n",
    "                  , right_on = ['districtNumber', 'districtType', 'schoolNumber']\n",
    "                  , left_on = ['District Number', 'District Type', 'School Number']\n",
    "                   ).drop(['districtNumber', \n",
    "                           'districtType', \n",
    "                           'schoolNumber',\n",
    "                           'District Number', \n",
    "                           'District Type', \n",
    "                           'School Number'],\n",
    "                          axis = 1).drop_duplicates()"
   ]
  },
  {
   "cell_type": "code",
   "execution_count": 24,
   "metadata": {
    "collapsed": true
   },
   "outputs": [],
   "source": [
    "PublicHSFull['address'] = PublicHSFull['County'] + ' ' + PublicHSFull['Physical State']\n",
    "PublicHSFull['address'] = PublicHSFull['address'].replace({'Saint':'St.'}, regex=True)"
   ]
  },
  {
   "cell_type": "code",
   "execution_count": null,
   "metadata": {
    "collapsed": true
   },
   "outputs": [],
   "source": [
    "PublicHSFull.to_csv(\"MnEnrollmentFull.csv\", index = False)"
   ]
  },
  {
   "cell_type": "code",
   "execution_count": null,
   "metadata": {
    "collapsed": true
   },
   "outputs": [],
   "source": [
    "MissingACT = PublicHS[PublicHS['ACT ID'].isnull() == True]"
   ]
  },
  {
   "cell_type": "code",
   "execution_count": 32,
   "metadata": {},
   "outputs": [
    {
     "data": {
      "text/plain": [
       "316"
      ]
     },
     "execution_count": 32,
     "metadata": {},
     "output_type": "execute_result"
    }
   ],
   "source": [
    "len(missingACT)"
   ]
  },
  {
   "cell_type": "code",
   "execution_count": 33,
   "metadata": {},
   "outputs": [
    {
     "data": {
      "text/plain": [
       "555"
      ]
     },
     "execution_count": 33,
     "metadata": {},
     "output_type": "execute_result"
    }
   ],
   "source": [
    "len(ACT)"
   ]
  },
  {
   "cell_type": "code",
   "execution_count": 34,
   "metadata": {
    "collapsed": true
   },
   "outputs": [],
   "source": [
    "# Pre-Lookup missing ACT"
   ]
  },
  {
   "cell_type": "code",
   "execution_count": 35,
   "metadata": {
    "collapsed": true
   },
   "outputs": [],
   "source": [
    "ActLookupRequest = missingACT[['SchoolName', 'Physical City']]"
   ]
  },
  {
   "cell_type": "code",
   "execution_count": 36,
   "metadata": {
    "collapsed": true
   },
   "outputs": [],
   "source": [
    "State = 'Minnesota'"
   ]
  },
  {
   "cell_type": "code",
   "execution_count": 37,
   "metadata": {},
   "outputs": [
    {
     "name": "stderr",
     "output_type": "stream",
     "text": [
      "C:\\Users\\karlk\\Anaconda3\\lib\\site-packages\\ipykernel_launcher.py:1: SettingWithCopyWarning: \n",
      "A value is trying to be set on a copy of a slice from a DataFrame.\n",
      "Try using .loc[row_indexer,col_indexer] = value instead\n",
      "\n",
      "See the caveats in the documentation: http://pandas.pydata.org/pandas-docs/stable/indexing.html#indexing-view-versus-copy\n",
      "  \"\"\"Entry point for launching an IPython kernel.\n"
     ]
    }
   ],
   "source": [
    "ActLookupRequest['State'] = State"
   ]
  },
  {
   "cell_type": "code",
   "execution_count": 38,
   "metadata": {
    "collapsed": true
   },
   "outputs": [],
   "source": [
    "actURL = 'https://www.act.org/content/act/en/products-and-services/the-act/registration/high-school-codes-lookup.html'"
   ]
  },
  {
   "cell_type": "code",
   "execution_count": 45,
   "metadata": {
    "collapsed": true
   },
   "outputs": [],
   "source": [
    "ActLookupRequest = ActLookupRequest.reset_index(drop = True)"
   ]
  },
  {
   "cell_type": "code",
   "execution_count": 46,
   "metadata": {
    "collapsed": true
   },
   "outputs": [],
   "source": [
    "import numpy as np\n",
    "from PIL import ImageGrab\n",
    "import cv2\n",
    "import time\n",
    "import pyautogui\n",
    "from random import randint\n",
    "import re\n",
    "#TODO navigate browser to actURL"
   ]
  },
  {
   "cell_type": "code",
   "execution_count": 58,
   "metadata": {
    "collapsed": true
   },
   "outputs": [],
   "source": [
    "for i in range(len(ActLookupPublicRequest)):\n",
    "    pyautogui.click(button='left', x=500, y=500)\n",
    "    time.sleep(1)\n",
    "    time.sleep(1)\n",
    "    time.sleep(1)\n",
    "    pyautogui.typewrite('Minnesota')\n",
    "    time.sleep(1)\n",
    "    time.sleep(1)\n",
    "    time.sleep(1)\n",
    "    pyautogui.press('tab')\n",
    "    time.sleep(1)\n",
    "    time.sleep(1)\n",
    "    time.sleep(1)\n",
    "    pyautogui.typewrite(ActLookupPublicRequest['Physical City'].iloc[i]) \n",
    "    pyautogui.press('tab')  \n",
    "    time.sleep(1)\n",
    "    time.sleep(1)\n",
    "    time.sleep(1)\n",
    "    #original\n",
    "    #pyautogui.typewrite(ActLookupRequest.SchoolName.[i])\n",
    "    pyautogui.typewrite(ActLookupPublicRequest.SchoolName.iloc[i])\n",
    "    time.sleep(1)\n",
    "    time.sleep(1)\n",
    "    time.sleep(1)\n",
    "    pyautogui.press('tab')    \n",
    "    pyautogui.press('enter')\n",
    "    time.sleep(1)\n",
    "    time.sleep(1)\n",
    "    time.sleep(1)\n",
    "    time.sleep(1)\n",
    "    time.sleep(1)\n",
    "    try:\n",
    "        time.sleep(1)\n",
    "        time.sleep(1)\n",
    "        time.sleep(1)\n",
    "        xpath = driver.find_element_by_xpath((\"//ul[@class='center-code']\"))\n",
    "        actcode = xpath.text\n",
    "        import re\n",
    "        actcode = re.sub(\"[^0-9]\", \"\",actcode)\n",
    "        act.append(actcode)\n",
    "        sn.append(ActLookupPublicRequest.SchoolName.iloc[i])\n",
    "        city.append(ActLookupPublicRequest['Physical City'].iloc[i])\n",
    "        time.sleep(1)\n",
    "        driver.get(actURL)\n",
    "    except:\n",
    "        \n",
    "        time.sleep(1)\n",
    "        driver.get(actURL)\n",
    "        continue \n",
    "    if cv2.waitKey(25) & 0xFF == ord('q'):\n",
    "        cv2.destroyAllWindows()\n",
    "        break"
   ]
  },
  {
   "cell_type": "code",
   "execution_count": null,
   "metadata": {
    "collapsed": true
   },
   "outputs": [],
   "source": [
    "ACTPublicFound = pd.DataFrame({'ACT ID': act,\n",
    "        'SchoolName': sn,\n",
    "        'Physical City': city})\n",
    "#ACTPublicFound = FinalMDEPublicACT \n",
    "PublicLookupUpdate = pd.merge(ActLookupPublicRequest, ACTPublicFound\n",
    "                              , on = ['SchoolName', 'Physical City']\n",
    "                              , how= 'inner')"
   ]
  },
  {
   "cell_type": "code",
   "execution_count": null,
   "metadata": {
    "collapsed": true
   },
   "outputs": [],
   "source": [
    "PublicLookupUpdate.to_csv(\"HS_ACT_FOUND.csv\", index = False)"
   ]
  }
 ],
 "metadata": {
  "kernelspec": {
   "display_name": "Python 3",
   "language": "python",
   "name": "python3"
  },
  "language_info": {
   "codemirror_mode": {
    "name": "ipython",
    "version": 3
   },
   "file_extension": ".py",
   "mimetype": "text/x-python",
   "name": "python",
   "nbconvert_exporter": "python",
   "pygments_lexer": "ipython3",
   "version": "3.6.1"
  }
 },
 "nbformat": 4,
 "nbformat_minor": 2
}
