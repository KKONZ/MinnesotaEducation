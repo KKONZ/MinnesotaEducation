{
 "cells": [
  {
   "cell_type": "markdown",
   "metadata": {},
   "source": [
    "# Web Scraping for MDE data"
   ]
  },
  {
   "cell_type": "markdown",
   "metadata": {},
   "source": [
    "In this note book we will explore downloading Minnesota Department of Education data and looking up the ACT code for schools missing that code. For this script you will need to have the packages below as well as a geckodriver with a path available to where this script is being executed. A web browser will be launched to select the actions needed to acquire the department of education data and Selenium will be used with a Python wrapper. "
   ]
  },
  {
   "cell_type": "code",
   "execution_count": 1,
   "metadata": {
    "collapsed": true
   },
   "outputs": [],
   "source": [
    "## Read into memory the classes and functions needed\n",
    "\n",
    "from selenium import webdriver\n",
    "from selenium.webdriver.common.by import By\n",
    "#from selenium.webdriver.common.keys import Keys\n",
    "import time\n",
    "import os\n",
    "from socket import socket\n",
    "import pandas as pd\n",
    "import wget\n",
    "import xlrd\n",
    "import xlwt\n",
    "from xlrd.sheet import ctype_text \n",
    "import datetime\n",
    "import shutil\n",
    "#import messytables"
   ]
  },
  {
   "cell_type": "code",
   "execution_count": 2,
   "metadata": {
    "collapsed": true
   },
   "outputs": [],
   "source": [
    "# Set the preferences for the firefox web browser\n",
    "fp = webdriver.FirefoxProfile()\n",
    "fp.set_preference('browser.download.folderList', 2)\n",
    "fp.set_preference('browser.download.manager.showWhenStarting', False)\n",
    "fp.set_preference('browser.download.dir', '/tmp')\n",
    "fp.set_preference(\"http.response.timeout\", 300)\n",
    "fp.set_preference(\"dom.max_script_run_time\", 300)\n",
    "fp.set_preference('webdriver.load.strategy', 'unstable')\n",
    "\n",
    "#fp.set_preference(\"browser.helperApps.neverAsk.openFile\", \"application/octet-stream\");\n",
    "#fp.set_preference(\"browser.helperApps.neverAsk.saveToDisk\", \"application/octet-stream\");\n",
    "\n",
    "fp.set_preference('browser.helperApps.neverAsk.saveToDisk', 'text/plain, application/vnd.ms-excel, text/csv, text/comma-separated-values, application/octet-stream, application/vnd.openxmlformats-officedocument.spreadsheetml.sheet')\n",
    "fp.update_preferences()"
   ]
  },
  {
   "cell_type": "code",
   "execution_count": 3,
   "metadata": {
    "collapsed": true
   },
   "outputs": [],
   "source": [
    "# MDE web app for hs enrollment data\n",
    "searchURL = 'http://w20.education.state.mn.us/MDEAnalytics/Data.jsp'"
   ]
  },
  {
   "cell_type": "code",
   "execution_count": 4,
   "metadata": {},
   "outputs": [],
   "source": [
    "# Launch web browser and navigate to the searchURL\n",
    "driver = webdriver.Firefox(fp)\n",
    "driver.get(searchURL)"
   ]
  },
  {
   "cell_type": "code",
   "execution_count": null,
   "metadata": {
    "collapsed": true
   },
   "outputs": [],
   "source": [
    "# switch into the frame titled 'floatframe'\n",
    "driver.switch_to.frame(driver.find_element_by_name('floatframe'))"
   ]
  },
  {
   "cell_type": "code",
   "execution_count": null,
   "metadata": {
    "collapsed": true,
    "scrolled": false
   },
   "outputs": [],
   "source": [
    "# find the element by xpath that has the text 'Student'\n",
    "ids_a = driver.find_elements_by_xpath(\"//*[text()='Student']\")"
   ]
  },
  {
   "cell_type": "code",
   "execution_count": null,
   "metadata": {
    "collapsed": true
   },
   "outputs": [],
   "source": [
    "# extract the link into an object\n",
    "for ii in ids_a:\n",
    "    link = ii.get_attribute('href')\n",
    "time.sleep(4)"
   ]
  },
  {
   "cell_type": "code",
   "execution_count": null,
   "metadata": {},
   "outputs": [],
   "source": [
    "print(link)"
   ]
  },
  {
   "cell_type": "code",
   "execution_count": null,
   "metadata": {
    "collapsed": true
   },
   "outputs": [],
   "source": [
    "#open the link to Student level data reporting on the MDE site\n",
    "driver.get(link)\n",
    "time.sleep(3)"
   ]
  },
  {
   "cell_type": "code",
   "execution_count": null,
   "metadata": {
    "collapsed": true,
    "scrolled": true
   },
   "outputs": [],
   "source": [
    "# Switch into the frame titled 'floatframe'\n",
    "driver.switch_to.frame(driver.find_element_by_name('floatframe'))"
   ]
  },
  {
   "cell_type": "code",
   "execution_count": null,
   "metadata": {
    "collapsed": true
   },
   "outputs": [],
   "source": [
    "# Click the button to display all data reporting around Students\n",
    "driver.find_element_by_xpath(\"//input[@id='button1' and @name='button1']\").click()"
   ]
  },
  {
   "cell_type": "code",
   "execution_count": null,
   "metadata": {
    "collapsed": true
   },
   "outputs": [],
   "source": [
    "# Switch into the frame from the output of the button click\n",
    "driver.switch_to.frame(driver.find_element_by_name('Report'))"
   ]
  },
  {
   "cell_type": "markdown",
   "metadata": {},
   "source": [
    "## Create new folders if they don't already exist for MDE, or however many states. "
   ]
  },
  {
   "cell_type": "markdown",
   "metadata": {},
   "source": [
    "Can also keep everything in one folder as well."
   ]
  },
  {
   "cell_type": "code",
   "execution_count": null,
   "metadata": {},
   "outputs": [],
   "source": [
    "newpath_main = r'C:\\MDE_Data'\n",
    "if not os.path.exists(newpath_main):\n",
    "    os.makedirs(newpath_main)   \n",
    "os.chdir(newpath_main)\n",
    "os.getcwd()"
   ]
  },
  {
   "cell_type": "code",
   "execution_count": null,
   "metadata": {
    "collapsed": true
   },
   "outputs": [],
   "source": [
    "# Can probably remove this sub-dir"
   ]
  },
  {
   "cell_type": "code",
   "execution_count": 6,
   "metadata": {},
   "outputs": [
    {
     "data": {
      "text/plain": [
       "'C:\\\\MDE_Data\\\\Enrollment_EthnicityGender'"
      ]
     },
     "execution_count": 6,
     "metadata": {},
     "output_type": "execute_result"
    }
   ],
   "source": [
    "EthnicityGender = r'C:\\MDE_Data\\Enrollment_EthnicityGender'\n",
    "if not os.path.exists(EthnicityGender):\n",
    "    os.makedirs(EthnicityGender)\n",
    "    \n",
    "os.chdir(EthnicityGender)\n",
    "os.getcwd()"
   ]
  },
  {
   "cell_type": "code",
   "execution_count": null,
   "metadata": {
    "collapsed": true
   },
   "outputs": [],
   "source": [
    "# Find all Enrollment by Ethnicity/Gender datasets\n",
    "\n",
    "TReport_href_Enrollment_by_EthnicityGender = driver.find_elements_by_xpath('//a[@href and contains(@title,\"Enrollment by Ethnicity/Gender\")]')"
   ]
  },
  {
   "cell_type": "code",
   "execution_count": 9,
   "metadata": {},
   "outputs": [
    {
     "data": {
      "text/plain": [
       "'2016-'"
      ]
     },
     "execution_count": 9,
     "metadata": {},
     "output_type": "execute_result"
    }
   ],
   "source": [
    "# Create a rolling window object to select a subset of files to download.\n",
    "CurrentTime = datetime.datetime.now()\n",
    "ThisYearFile = str(CurrentTime.year - 1) + '-'\n",
    "ThisYearFile\n",
    "#for ii in TReport_href_Enrollment_by_EthnicityGender:\n",
    "#    if ThisYearFile in \n",
    "LastYearFile = str(CurrentTime.year - 2) + '-'\n",
    "LastYearFile\n",
    "#TwoYearsAgo = print(str(CurrentTime.year - 3) + '-')\n",
    "#TwoYearsAgo\n",
    "#ThreeYearsAgo = print(str(CurrentTime.year - 4) + '-')\n",
    "#ThreeYearsAgo\n",
    "#FourYearsAgo = print(str(CurrentTime.year - 5) + '-')\n",
    "#FourYearsAgo"
   ]
  },
  {
   "cell_type": "code",
   "execution_count": 10,
   "metadata": {},
   "outputs": [
    {
     "data": {
      "text/plain": [
       "'2017-'"
      ]
     },
     "execution_count": 10,
     "metadata": {},
     "output_type": "execute_result"
    }
   ],
   "source": [
    "ThisYearFile"
   ]
  },
  {
   "cell_type": "code",
   "execution_count": null,
   "metadata": {},
   "outputs": [],
   "source": [
    "TReport_href_Enrollment_by_EthnicityGender[0].get_attribute('title')"
   ]
  },
  {
   "cell_type": "code",
   "execution_count": null,
   "metadata": {},
   "outputs": [],
   "source": [
    " # All Enrollment by Ethnicity/Gender datasets\n",
    "downloadsTitle = []\n",
    "downloadURL = []\n",
    "for ii in TReport_href_Enrollment_by_EthnicityGender:\n",
    "    if ThisYearFile in ii.get_attribute('title') or LastYearFile in ii.get_attribute('title'):\n",
    "        wget.download(ii.get_attribute('href'), print(ii.get_attribute('title')))\n",
    "        downloadsTitle.append(ii.get_attribute('title'))\n",
    "        downloadURL.append(ii.get_attribute('href'))\n",
    "\n",
    "        "
   ]
  },
  {
   "cell_type": "code",
   "execution_count": null,
   "metadata": {
    "collapsed": true
   },
   "outputs": [],
   "source": []
  },
  {
   "cell_type": "code",
   "execution_count": 11,
   "metadata": {
    "collapsed": true
   },
   "outputs": [],
   "source": [
    "ThisYearFileExtended = ThisYearFile + str(CurrentTime.year)"
   ]
  },
  {
   "cell_type": "code",
   "execution_count": 12,
   "metadata": {},
   "outputs": [
    {
     "data": {
      "text/plain": [
       "'2017-2018'"
      ]
     },
     "execution_count": 12,
     "metadata": {},
     "output_type": "execute_result"
    }
   ],
   "source": [
    "ThisYearFileExtended"
   ]
  },
  {
   "cell_type": "code",
   "execution_count": 13,
   "metadata": {},
   "outputs": [],
   "source": [
    "CurrentSeniorsFile = ThisYearFileExtended + ' Enrollment by Ethnicity_Gender.xlsx'"
   ]
  },
  {
   "cell_type": "code",
   "execution_count": 14,
   "metadata": {},
   "outputs": [
    {
     "data": {
      "text/plain": [
       "'2017-2018 Enrollment by Ethnicity_Gender.xlsx'"
      ]
     },
     "execution_count": 14,
     "metadata": {},
     "output_type": "execute_result"
    }
   ],
   "source": [
    "CurrentSeniorsFile"
   ]
  },
  {
   "cell_type": "code",
   "execution_count": 15,
   "metadata": {},
   "outputs": [],
   "source": [
    "os.chdir(EthnicityGender)\n",
    "CurrentSeniorsPublic = pd.read_excel(CurrentSeniorsFile, sheetname = 'School')"
   ]
  },
  {
   "cell_type": "code",
   "execution_count": 16,
   "metadata": {
    "collapsed": true
   },
   "outputs": [],
   "source": [
    "LastYearFileExtended = LastYearFile + str(CurrentTime.year - 1)"
   ]
  },
  {
   "cell_type": "code",
   "execution_count": 17,
   "metadata": {},
   "outputs": [
    {
     "data": {
      "text/plain": [
       "'2016-2017'"
      ]
     },
     "execution_count": 17,
     "metadata": {},
     "output_type": "execute_result"
    }
   ],
   "source": [
    "LastYearFileExtended"
   ]
  },
  {
   "cell_type": "code",
   "execution_count": null,
   "metadata": {
    "collapsed": true
   },
   "outputs": [],
   "source": []
  },
  {
   "cell_type": "code",
   "execution_count": null,
   "metadata": {
    "collapsed": true
   },
   "outputs": [],
   "source": []
  },
  {
   "cell_type": "code",
   "execution_count": null,
   "metadata": {
    "collapsed": true
   },
   "outputs": [],
   "source": [
    "# GET MDE Lookup Table"
   ]
  },
  {
   "cell_type": "code",
   "execution_count": null,
   "metadata": {
    "collapsed": true
   },
   "outputs": [],
   "source": [
    "wget.download('http://w20.education.state.mn.us/MdeOrgView/tag/extractContacts/MDEORG_DISTRICT_SCHOOL?description=')"
   ]
  },
  {
   "cell_type": "code",
   "execution_count": 18,
   "metadata": {
    "collapsed": true
   },
   "outputs": [],
   "source": [
    "import datetime\n",
    "filename =  'School_' + datetime.datetime.today().strftime('%m-%d-%Y') + '.csv'"
   ]
  },
  {
   "cell_type": "code",
   "execution_count": 23,
   "metadata": {},
   "outputs": [],
   "source": [
    "filename = 'School_06-05-2018' + '.csv'"
   ]
  },
  {
   "cell_type": "code",
   "execution_count": 24,
   "metadata": {},
   "outputs": [],
   "source": [
    "LookUp = pd.read_csv(filename)"
   ]
  },
  {
   "cell_type": "code",
   "execution_count": 25,
   "metadata": {},
   "outputs": [
    {
     "data": {
      "text/plain": [
       "Index(['DataYear', 'DistrictCountyNumber', 'DistrictCountyName',\n",
       "       'districtNumber', 'districtType', 'DistrictName', 'schoolNumber',\n",
       "       'SchoolName', 'ECSUNumber', 'EconomicDevelopmentRegion', 'Grade',\n",
       "       'AMI_Male', 'AMI_Female', 'ASI_Male', 'ASI_Female', 'BLK_Male',\n",
       "       'BLK_Female', 'HIS_Male', 'HIS_Female', 'HPI_Male', 'HPI_Female',\n",
       "       'MLT_Male', 'MLT_Female', 'WHT_Male', 'WHT_Female', 'TotalMale',\n",
       "       'TotalFemale', 'TotalMinority', 'TotalStudents', 'Entity',\n",
       "       'MinMaxGrade', 'SchoolLocationCountyNumber', 'SchoolLocationCountyName',\n",
       "       'SchoolClassification'],\n",
       "      dtype='object')"
      ]
     },
     "execution_count": 25,
     "metadata": {},
     "output_type": "execute_result"
    }
   ],
   "source": [
    "CurrentSeniorsPublic.columns"
   ]
  },
  {
   "cell_type": "code",
   "execution_count": 26,
   "metadata": {},
   "outputs": [
    {
     "data": {
      "text/plain": [
       "Index(['District Number', 'District Type', 'School Number', 'Number',\n",
       "       'Organization', 'Title', 'Name', 'First Name', 'Last Name', 'Phone',\n",
       "       'Email', 'Mailing Line 1', 'Mailing Line 2', 'Mailing City',\n",
       "       'Mailing State', 'Mailing Zip', 'Physical Line 1', 'Physical Line 2',\n",
       "       'Physical City', 'Physical State', 'Physical Zip', 'County', 'Grades',\n",
       "       'School Classification', 'Eco Dev Region', 'NCES ID',\n",
       "       'StateOrganizationId', 'ACT ID', 'Web URL', 'Data Extracted'],\n",
       "      dtype='object')"
      ]
     },
     "execution_count": 26,
     "metadata": {},
     "output_type": "execute_result"
    }
   ],
   "source": [
    "LookUp.columns"
   ]
  },
  {
   "cell_type": "code",
   "execution_count": null,
   "metadata": {
    "collapsed": true
   },
   "outputs": [],
   "source": []
  },
  {
   "cell_type": "code",
   "execution_count": 28,
   "metadata": {},
   "outputs": [],
   "source": [
    "PreACT = pd.merge(CurrentSeniorsPublic, LookUp, how = \"inner\"\n",
    "                  , left_on = ['districtNumber', 'districtType', 'schoolNumber']\n",
    "                  , right_on = ['District Number', 'District Type', 'School Number'])"
   ]
  },
  {
   "cell_type": "code",
   "execution_count": 29,
   "metadata": {},
   "outputs": [
    {
     "data": {
      "text/plain": [
       "Index(['DataYear', 'DistrictCountyNumber', 'DistrictCountyName',\n",
       "       'districtNumber', 'districtType', 'DistrictName', 'schoolNumber',\n",
       "       'SchoolName', 'ECSUNumber', 'EconomicDevelopmentRegion', 'Grade',\n",
       "       'AMI_Male', 'AMI_Female', 'ASI_Male', 'ASI_Female', 'BLK_Male',\n",
       "       'BLK_Female', 'HIS_Male', 'HIS_Female', 'HPI_Male', 'HPI_Female',\n",
       "       'MLT_Male', 'MLT_Female', 'WHT_Male', 'WHT_Female', 'TotalMale',\n",
       "       'TotalFemale', 'TotalMinority', 'TotalStudents', 'Entity',\n",
       "       'MinMaxGrade', 'SchoolLocationCountyNumber', 'SchoolLocationCountyName',\n",
       "       'SchoolClassification', 'District Number', 'District Type',\n",
       "       'School Number', 'Number', 'Organization', 'Title', 'Name',\n",
       "       'First Name', 'Last Name', 'Phone', 'Email', 'Mailing Line 1',\n",
       "       'Mailing Line 2', 'Mailing City', 'Mailing State', 'Mailing Zip',\n",
       "       'Physical Line 1', 'Physical Line 2', 'Physical City', 'Physical State',\n",
       "       'Physical Zip', 'County', 'Grades', 'School Classification',\n",
       "       'Eco Dev Region', 'NCES ID', 'StateOrganizationId', 'ACT ID', 'Web URL',\n",
       "       'Data Extracted'],\n",
       "      dtype='object')"
      ]
     },
     "execution_count": 29,
     "metadata": {},
     "output_type": "execute_result"
    }
   ],
   "source": [
    "PreACT.columns"
   ]
  },
  {
   "cell_type": "code",
   "execution_count": 30,
   "metadata": {
    "collapsed": true
   },
   "outputs": [],
   "source": [
    "missingACT = PreACT[(PreACT['ACT ID'].isnull() == True) & (PreACT.Grade == '11')]"
   ]
  },
  {
   "cell_type": "code",
   "execution_count": 31,
   "metadata": {
    "collapsed": true
   },
   "outputs": [],
   "source": [
    "ACT = PreACT[(PreACT['ACT ID'].isnull() == False) & (PreACT.Grade == '11')]"
   ]
  },
  {
   "cell_type": "code",
   "execution_count": null,
   "metadata": {
    "collapsed": true
   },
   "outputs": [],
   "source": []
  },
  {
   "cell_type": "code",
   "execution_count": 32,
   "metadata": {},
   "outputs": [
    {
     "data": {
      "text/plain": [
       "316"
      ]
     },
     "execution_count": 32,
     "metadata": {},
     "output_type": "execute_result"
    }
   ],
   "source": [
    "len(missingACT)"
   ]
  },
  {
   "cell_type": "code",
   "execution_count": 33,
   "metadata": {},
   "outputs": [
    {
     "data": {
      "text/plain": [
       "555"
      ]
     },
     "execution_count": 33,
     "metadata": {},
     "output_type": "execute_result"
    }
   ],
   "source": [
    "len(ACT)"
   ]
  },
  {
   "cell_type": "code",
   "execution_count": 34,
   "metadata": {
    "collapsed": true
   },
   "outputs": [],
   "source": [
    "# Pre-Lookup missing ACT"
   ]
  },
  {
   "cell_type": "code",
   "execution_count": 35,
   "metadata": {
    "collapsed": true
   },
   "outputs": [],
   "source": [
    "ActLookupRequest = missingACT[['SchoolName', 'Physical City']]"
   ]
  },
  {
   "cell_type": "code",
   "execution_count": 36,
   "metadata": {
    "collapsed": true
   },
   "outputs": [],
   "source": [
    "State = 'Minnesota'"
   ]
  },
  {
   "cell_type": "code",
   "execution_count": 37,
   "metadata": {},
   "outputs": [
    {
     "name": "stderr",
     "output_type": "stream",
     "text": [
      "C:\\Users\\karlk\\Anaconda3\\lib\\site-packages\\ipykernel_launcher.py:1: SettingWithCopyWarning: \n",
      "A value is trying to be set on a copy of a slice from a DataFrame.\n",
      "Try using .loc[row_indexer,col_indexer] = value instead\n",
      "\n",
      "See the caveats in the documentation: http://pandas.pydata.org/pandas-docs/stable/indexing.html#indexing-view-versus-copy\n",
      "  \"\"\"Entry point for launching an IPython kernel.\n"
     ]
    }
   ],
   "source": [
    "ActLookupRequest['State'] = State"
   ]
  },
  {
   "cell_type": "code",
   "execution_count": 38,
   "metadata": {
    "collapsed": true
   },
   "outputs": [],
   "source": [
    "actURL = 'https://www.act.org/content/act/en/products-and-services/the-act/registration/high-school-codes-lookup.html'"
   ]
  },
  {
   "cell_type": "code",
   "execution_count": 45,
   "metadata": {},
   "outputs": [],
   "source": [
    "ActLookupRequest = ActLookupRequest.reset_index(drop = True)"
   ]
  },
  {
   "cell_type": "code",
   "execution_count": 46,
   "metadata": {
    "collapsed": true
   },
   "outputs": [],
   "source": [
    "import numpy as np\n",
    "from PIL import ImageGrab\n",
    "import cv2\n",
    "import time\n",
    "import pyautogui\n",
    "from random import randint\n",
    "import re\n",
    "#TODO navigate browser to actURL"
   ]
  },
  {
   "cell_type": "code",
   "execution_count": 58,
   "metadata": {},
   "outputs": [],
   "source": [
    "driver.get(actURL)\n",
    "time.sleep(2)\n",
    "\n",
    "sn = []\n",
    "act = []\n",
    "\n",
    "for i in range(len(ActLookupRequest)):\n",
    "#while time.time() < t_end:# True :\n",
    "    #driver = webdriver.Firefox(fp)\n",
    "    #driver.get(SearchURL)MinnesotaMinneapolis\n",
    "    screen =  np.array(ImageGrab.grab(bbox=(0,40,800,800)))\n",
    "    #print('Frame took {} seconds'.format(time.time()-last_time))\n",
    "    pyautogui.click(button='left', x=500, y=500)\n",
    "    time.sleep(1)\n",
    "    pyautogui.typewrite('Minnesota')\n",
    "    time.sleep(1)\n",
    "    pyautogui.press('enter')\n",
    "    time.sleep(3)\n",
    "    pyautogui.click(x=500, y=570, clicks=1, interval = .075, button='left')\n",
    "    pyautogui.click(x=500, y=570, clicks=1, interval = .075, button='left')\n",
    "    pyautogui.click(x=500, y=570, clicks=1, interval = .075, button='left')  \n",
    "    #pyautogui.mouseDown(button='left', x=500, y=550)\n",
    "    #pyautogui.mouseUp(button='left', x=500, y=550)\n",
    "    time.sleep(2)\n",
    "\n",
    "    pyautogui.typewrite(ActLookupRequest['Physical City'][i])   \n",
    "    pyautogui.click(x=500, y=610, clicks=1, interval = .075, button='left')\n",
    "    pyautogui.click(x=500, y=610, clicks=1, interval = .075, button='left')\n",
    "    pyautogui.click(x=500, y=610, clicks=1, interval = .075, button='left')                \n",
    "    #pyautogui.mouseDown(button='left', x=500, y=620)\n",
    "    #pyautogui.mouseUp(button='left', x=500, y=620)\n",
    "    time.sleep(2)\n",
    "    pyautogui.typewrite(ActLookupRequest.SchoolName[i])\n",
    "    time.sleep(2)\n",
    "    #pyautogui.press('enter')\n",
    "    pyautogui.click(button='left', x=600, y=700, interval = 1)\n",
    "        \n",
    "    \n",
    "    time.sleep(5)\n",
    "    try:\n",
    "        xpath = driver.find_element_by_xpath((\"//ul[@class='center-code']\"))\n",
    "        actcode = xpath.text\n",
    "        import re\n",
    "        actcode = re.sub(\"[^0-9]\", \"\",actcode)\n",
    "        act.append(actcode)\n",
    "        sn.append(ActLookupRequest.SchoolName[i])\n",
    "        driver.get(actURL)\n",
    "    except:\n",
    "        driver.get(actURL)\n",
    "        continue\n",
    "        \n",
    "    #pyautogui.click(x=600, y=500, clicks=1, interval = 5, button='left')\n",
    "    #pyautogui.typewrite('Minnesota')\n",
    "    #new_screen = process_img(screen)Minnesota\n",
    "    #cv2.imshow('window', #new_screen)javascript:void(0)\n",
    "    #process_img(process_img(np0array(ImageGrab.grab(bbox=(0,40,800,640)))))\n",
    "    #else:\n",
    "    #    pass#cv2.destroyAllWindows()javascript:void(0)\n",
    "    \n",
    "    #x = randint(10, 798)\n",
    "    #y = randint(10, 560)\n",
    "    #pyautogui.mouseDown(button='left', x=x, y=y)\n",
    "    #pyautogui.click(x=x, y=y, clicks=1, interval=1, button='left')\n",
    "\n",
    "    #pyautogui.typewrite(SchoolLookUpCodes[\"Lookup Code\"].iloc[i])\n",
    "\n",
    "    \n",
    "    #pyautogui.click(x=680, y=400, clicks=1, interval = 1, button='left')\n",
    "    #driver.find_element_by_xpath((\"//table[@class='search-results']/tbody/tr[2]/td\"))\n",
    "    #xpath = driver.find_element_by_xpath((\"//table[@class='search-results']/tbody/tr[2]/td\"))\n",
    "    #text = xpath.text\n",
    "    #AddressPhone.append(text)\n",
    "    \n",
    "    #pyautogui.click(x=400, y=400, clicks=1, interval = .075, button='left')\n",
    "    #pyautogui.click(x=400, y=400, clicks=1, interval = .075, button='left')\n",
    "    #pyautogui.click(x=400, y=400, clicks=1, interval = .075, button='left')\n",
    "    #pyautogui.press('delete')\n",
    "    \n",
    "    if cv2.waitKey(25) & 0xFF == ord('q'):\n",
    "        cv2.destroyAllWindows()\n",
    "        break"
   ]
  },
  {
   "cell_type": "code",
   "execution_count": 57,
   "metadata": {},
   "outputs": [
    {
     "data": {
      "text/plain": [
       "<selenium.webdriver.firefox.webelement.FirefoxWebElement (session=\"d057e7f1-e183-4645-8d70-d4731d84d7e2\", element=\"607af8ff-4a46-4706-860b-aece7603142f\")>"
      ]
     },
     "execution_count": 57,
     "metadata": {},
     "output_type": "execute_result"
    }
   ],
   "source": [
    "driver.find_element_by_xpath((\"//ul[@class='center-code']\"))"
   ]
  },
  {
   "cell_type": "code",
   "execution_count": null,
   "metadata": {
    "collapsed": true
   },
   "outputs": [],
   "source": [
    "ActLookupRequest['Physical City'].head()\n",
    "\n"
   ]
  },
  {
   "cell_type": "code",
   "execution_count": null,
   "metadata": {
    "collapsed": true
   },
   "outputs": [],
   "source": []
  },
  {
   "cell_type": "code",
   "execution_count": null,
   "metadata": {
    "collapsed": true
   },
   "outputs": [],
   "source": []
  },
  {
   "cell_type": "code",
   "execution_count": null,
   "metadata": {
    "collapsed": true
   },
   "outputs": [],
   "source": []
  },
  {
   "cell_type": "code",
   "execution_count": null,
   "metadata": {
    "collapsed": true
   },
   "outputs": [],
   "source": []
  },
  {
   "cell_type": "code",
   "execution_count": 64,
   "metadata": {},
   "outputs": [
    {
     "ename": "NameError",
     "evalue": "name 'sc' is not defined",
     "output_type": "error",
     "traceback": [
      "\u001b[1;31m---------------------------------------------------------------------------\u001b[0m",
      "\u001b[1;31mNameError\u001b[0m                                 Traceback (most recent call last)",
      "\u001b[1;32m<ipython-input-64-87fb4136dfb6>\u001b[0m in \u001b[0;36m<module>\u001b[1;34m()\u001b[0m\n\u001b[1;32m----> 1\u001b[1;33m \u001b[0mpd\u001b[0m\u001b[1;33m.\u001b[0m\u001b[0mSeries\u001b[0m\u001b[1;33m(\u001b[0m\u001b[0msc\u001b[0m\u001b[1;33m)\u001b[0m\u001b[1;33m\u001b[0m\u001b[0m\n\u001b[0m",
      "\u001b[1;31mNameError\u001b[0m: name 'sc' is not defined"
     ]
    }
   ],
   "source": [
    "pd.Series(sc)"
   ]
  },
  {
   "cell_type": "code",
   "execution_count": null,
   "metadata": {
    "collapsed": true
   },
   "outputs": [],
   "source": [
    "ACT_CODE_DF = pd.D"
   ]
  },
  {
   "cell_type": "code",
   "execution_count": 62,
   "metadata": {},
   "outputs": [
    {
     "data": {
      "text/plain": [
       "75"
      ]
     },
     "execution_count": 62,
     "metadata": {},
     "output_type": "execute_result"
    }
   ],
   "source": [
    "len(act)"
   ]
  },
  {
   "cell_type": "code",
   "execution_count": null,
   "metadata": {
    "collapsed": true
   },
   "outputs": [],
   "source": []
  },
  {
   "cell_type": "code",
   "execution_count": null,
   "metadata": {},
   "outputs": [],
   "source": [
    "newpath = r'C:\\MDE_Data\\Enrollment_Help'\n",
    "if not os.path.exists(newpath):\n",
    "    os.makedirs(newpath)\n",
    "    \n",
    "os.chdir(newpath)\n",
    "os.getcwd()"
   ]
  },
  {
   "cell_type": "code",
   "execution_count": null,
   "metadata": {
    "collapsed": true
   },
   "outputs": [],
   "source": [
    "# Find all Enrollment by Ethnicity/Gender datasets\n",
    "#TReport_href_Enrollment_by_EthnicityGender_Help = driver.find_element_by_xpath('//a[@href and @title = \"Help file: Enrollment Field Descriptions\"]')"
   ]
  },
  {
   "cell_type": "code",
   "execution_count": null,
   "metadata": {
    "collapsed": true
   },
   "outputs": [],
   "source": [
    "TReport_href_Enrollment_by_EthnicityGender_Help = driver.find_element_by_xpath('//a[@href and @title = \"Help file: Enrollment Field Descriptions\"]')"
   ]
  },
  {
   "cell_type": "code",
   "execution_count": null,
   "metadata": {},
   "outputs": [],
   "source": [
    "TReport_href_Enrollment_by_EthnicityGender_Help.get_attribute('href')"
   ]
  },
  {
   "cell_type": "code",
   "execution_count": null,
   "metadata": {},
   "outputs": [],
   "source": [
    "link = TReport_href_Enrollment_by_EthnicityGender_Help.get_attribute('href')\n",
    "title = TReport_href_Enrollment_by_EthnicityGender_Help.get_attribute('title')\n",
    "wget.download(link, 'Enrollment_Gender_Ethnicity_Help.xlsx')"
   ]
  },
  {
   "cell_type": "code",
   "execution_count": null,
   "metadata": {},
   "outputs": [],
   "source": [
    "NonPublic = r'C:\\MDE_Data\\Enrollment_NonPublic'\n",
    "if not os.path.exists(NonPublic):\n",
    "    os.makedirs(NonPublic)\n",
    "os.chdir(NonPublic)\n",
    "os.getcwd()"
   ]
  },
  {
   "cell_type": "code",
   "execution_count": null,
   "metadata": {
    "collapsed": true
   },
   "outputs": [],
   "source": [
    "TReport_href_Enrollment_Nonpublic = driver.find_elements_by_xpath('//a[@href and contains(@title,\"Enrollment-Nonpublic\")]')"
   ]
  },
  {
   "cell_type": "code",
   "execution_count": null,
   "metadata": {},
   "outputs": [],
   "source": [
    " # All Enrollment by Ethnicity/Gender datasets\n",
    "for ii in TReport_href_Enrollment_Nonpublic:\n",
    "    wget.download(ii.get_attribute('href'), print(ii.get_attribute('title')))"
   ]
  },
  {
   "cell_type": "code",
   "execution_count": null,
   "metadata": {},
   "outputs": [],
   "source": [
    "for filename in os.listdir(os.getcwd()):\n",
    "    print(filename)"
   ]
  },
  {
   "cell_type": "code",
   "execution_count": null,
   "metadata": {},
   "outputs": [],
   "source": [
    "print(os.getcwd())"
   ]
  },
  {
   "cell_type": "code",
   "execution_count": null,
   "metadata": {
    "collapsed": true
   },
   "outputs": [],
   "source": []
  },
  {
   "cell_type": "code",
   "execution_count": null,
   "metadata": {
    "collapsed": true
   },
   "outputs": [],
   "source": [
    "# TODO add second part to year"
   ]
  },
  {
   "cell_type": "code",
   "execution_count": null,
   "metadata": {
    "collapsed": true
   },
   "outputs": [],
   "source": [
    "os.chdir(EthnicityGender)"
   ]
  },
  {
   "cell_type": "code",
   "execution_count": null,
   "metadata": {
    "collapsed": true
   },
   "outputs": [],
   "source": [
    "ThisYr = pd.read_excel(\"2017-2018 Enrollment by Ethnicity_Gender.xlsx\", sheetname = 'School')"
   ]
  },
  {
   "cell_type": "code",
   "execution_count": null,
   "metadata": {
    "collapsed": true
   },
   "outputs": [],
   "source": []
  },
  {
   "cell_type": "code",
   "execution_count": null,
   "metadata": {},
   "outputs": [],
   "source": [
    "len(ThisYr)"
   ]
  },
  {
   "cell_type": "code",
   "execution_count": null,
   "metadata": {
    "collapsed": true
   },
   "outputs": [],
   "source": []
  },
  {
   "cell_type": "code",
   "execution_count": null,
   "metadata": {},
   "outputs": [],
   "source": [
    "ThisYr.columns"
   ]
  },
  {
   "cell_type": "code",
   "execution_count": null,
   "metadata": {
    "collapsed": true
   },
   "outputs": [],
   "source": [
    "ThisYr = ThisYr[ThisYr.Grade == '11']"
   ]
  },
  {
   "cell_type": "code",
   "execution_count": null,
   "metadata": {
    "collapsed": true
   },
   "outputs": [],
   "source": [
    "LookUp = pd.read_csv(\"School_06-05-2018.csv\")"
   ]
  },
  {
   "cell_type": "code",
   "execution_count": null,
   "metadata": {},
   "outputs": [],
   "source": [
    "LookUp.columns"
   ]
  },
  {
   "cell_type": "code",
   "execution_count": null,
   "metadata": {
    "collapsed": true
   },
   "outputs": [],
   "source": [
    "PreACT = pd.merge(ThisYr, LookUp, how = \"inner\"\n",
    "                  , left_on = ['districtNumber', 'districtType', 'schoolNumber']\n",
    "                  , right_on = ['District Number', 'District Type', 'School Number'])"
   ]
  },
  {
   "cell_type": "code",
   "execution_count": null,
   "metadata": {},
   "outputs": [],
   "source": [
    "PreACT"
   ]
  },
  {
   "cell_type": "code",
   "execution_count": null,
   "metadata": {},
   "outputs": [],
   "source": [
    "PreACT.columns"
   ]
  },
  {
   "cell_type": "code",
   "execution_count": null,
   "metadata": {},
   "outputs": [],
   "source": [
    "len(PreACT[\"ACT ID\"].isnull() == True)"
   ]
  },
  {
   "cell_type": "code",
   "execution_count": null,
   "metadata": {},
   "outputs": [],
   "source": [
    "len(PreACT[PreACT[\"ACT ID\"].isnull() == False])"
   ]
  },
  {
   "cell_type": "code",
   "execution_count": null,
   "metadata": {
    "collapsed": true
   },
   "outputs": [],
   "source": []
  },
  {
   "cell_type": "code",
   "execution_count": null,
   "metadata": {
    "collapsed": true
   },
   "outputs": [],
   "source": []
  },
  {
   "cell_type": "code",
   "execution_count": null,
   "metadata": {
    "collapsed": true
   },
   "outputs": [],
   "source": []
  },
  {
   "cell_type": "code",
   "execution_count": null,
   "metadata": {
    "collapsed": true
   },
   "outputs": [],
   "source": []
  },
  {
   "cell_type": "code",
   "execution_count": null,
   "metadata": {
    "collapsed": true
   },
   "outputs": [],
   "source": []
  },
  {
   "cell_type": "code",
   "execution_count": null,
   "metadata": {
    "collapsed": true
   },
   "outputs": [],
   "source": []
  },
  {
   "cell_type": "code",
   "execution_count": null,
   "metadata": {
    "collapsed": true
   },
   "outputs": [],
   "source": [
    "ACTLookUpRequest = PreACT[\"ACT_ID\"].isnull()"
   ]
  },
  {
   "cell_type": "code",
   "execution_count": null,
   "metadata": {},
   "outputs": [],
   "source": [
    "len(ThisYr[ThisYr.Grade == '11' and pd.isnull(ThisYr[\"ACT_CODE\"])])"
   ]
  },
  {
   "cell_type": "code",
   "execution_count": null,
   "metadata": {
    "collapsed": true
   },
   "outputs": [],
   "source": [
    "LookUp = pd.read_csv(\"School_06-05-2018.csv\")"
   ]
  },
  {
   "cell_type": "code",
   "execution_count": null,
   "metadata": {
    "collapsed": true
   },
   "outputs": [],
   "source": [
    "xl_workbook = xlrd.open_workbook(\"2017-2018 Enrollment by Ethnicity_Gender.xlsx\")"
   ]
  },
  {
   "cell_type": "code",
   "execution_count": null,
   "metadata": {
    "collapsed": true
   },
   "outputs": [],
   "source": []
  },
  {
   "cell_type": "code",
   "execution_count": null,
   "metadata": {
    "collapsed": true
   },
   "outputs": [],
   "source": []
  },
  {
   "cell_type": "code",
   "execution_count": null,
   "metadata": {
    "collapsed": true
   },
   "outputs": [],
   "source": [
    "os.getcwd()"
   ]
  }
 ],
 "metadata": {
  "kernelspec": {
   "display_name": "Python 3",
   "language": "python",
   "name": "python3"
  },
  "language_info": {
   "codemirror_mode": {
    "name": "ipython",
    "version": 3
   },
   "file_extension": ".py",
   "mimetype": "text/x-python",
   "name": "python",
   "nbconvert_exporter": "python",
   "pygments_lexer": "ipython3",
   "version": "3.6.1"
  }
 },
 "nbformat": 4,
 "nbformat_minor": 2
}
